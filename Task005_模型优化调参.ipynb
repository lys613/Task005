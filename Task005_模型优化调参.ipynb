{
 "cells": [
  {
   "cell_type": "markdown",
   "metadata": {},
   "source": [
    "### 读取数据"
   ]
  },
  {
   "cell_type": "code",
   "execution_count": 1,
   "metadata": {},
   "outputs": [
    {
     "data": {
      "text/html": [
       "<div>\n",
       "<style scoped>\n",
       "    .dataframe tbody tr th:only-of-type {\n",
       "        vertical-align: middle;\n",
       "    }\n",
       "\n",
       "    .dataframe tbody tr th {\n",
       "        vertical-align: top;\n",
       "    }\n",
       "\n",
       "    .dataframe thead th {\n",
       "        text-align: right;\n",
       "    }\n",
       "</style>\n",
       "<table border=\"1\" class=\"dataframe\">\n",
       "  <thead>\n",
       "    <tr style=\"text-align: right;\">\n",
       "      <th></th>\n",
       "      <th>Unnamed: 0</th>\n",
       "      <th>custid</th>\n",
       "      <th>trade_no</th>\n",
       "      <th>bank_card_no</th>\n",
       "      <th>low_volume_percent</th>\n",
       "      <th>middle_volume_percent</th>\n",
       "      <th>take_amount_in_later_12_month_highest</th>\n",
       "      <th>trans_amount_increase_rate_lately</th>\n",
       "      <th>trans_activity_month</th>\n",
       "      <th>trans_activity_day</th>\n",
       "      <th>...</th>\n",
       "      <th>loans_max_limit</th>\n",
       "      <th>loans_avg_limit</th>\n",
       "      <th>consfin_credit_limit</th>\n",
       "      <th>consfin_credibility</th>\n",
       "      <th>consfin_org_count_current</th>\n",
       "      <th>consfin_product_count</th>\n",
       "      <th>consfin_max_limit</th>\n",
       "      <th>consfin_avg_limit</th>\n",
       "      <th>latest_query_day</th>\n",
       "      <th>loans_latest_day</th>\n",
       "    </tr>\n",
       "  </thead>\n",
       "  <tbody>\n",
       "    <tr>\n",
       "      <th>0</th>\n",
       "      <td>5</td>\n",
       "      <td>2791858</td>\n",
       "      <td>20180507115231274000000023057383</td>\n",
       "      <td>卡号1</td>\n",
       "      <td>0.01</td>\n",
       "      <td>0.99</td>\n",
       "      <td>0</td>\n",
       "      <td>0.90</td>\n",
       "      <td>0.55</td>\n",
       "      <td>0.313</td>\n",
       "      <td>...</td>\n",
       "      <td>2900.0</td>\n",
       "      <td>1688.0</td>\n",
       "      <td>1200.0</td>\n",
       "      <td>75.0</td>\n",
       "      <td>1.0</td>\n",
       "      <td>2.0</td>\n",
       "      <td>1200.0</td>\n",
       "      <td>1200.0</td>\n",
       "      <td>12.0</td>\n",
       "      <td>18.0</td>\n",
       "    </tr>\n",
       "    <tr>\n",
       "      <th>1</th>\n",
       "      <td>10</td>\n",
       "      <td>534047</td>\n",
       "      <td>20180507121002192000000023073000</td>\n",
       "      <td>卡号1</td>\n",
       "      <td>0.02</td>\n",
       "      <td>0.94</td>\n",
       "      <td>2000</td>\n",
       "      <td>1.28</td>\n",
       "      <td>1.00</td>\n",
       "      <td>0.458</td>\n",
       "      <td>...</td>\n",
       "      <td>3500.0</td>\n",
       "      <td>1758.0</td>\n",
       "      <td>15100.0</td>\n",
       "      <td>80.0</td>\n",
       "      <td>5.0</td>\n",
       "      <td>6.0</td>\n",
       "      <td>22800.0</td>\n",
       "      <td>9360.0</td>\n",
       "      <td>4.0</td>\n",
       "      <td>2.0</td>\n",
       "    </tr>\n",
       "    <tr>\n",
       "      <th>2</th>\n",
       "      <td>12</td>\n",
       "      <td>2849787</td>\n",
       "      <td>20180507125159718000000023114911</td>\n",
       "      <td>卡号1</td>\n",
       "      <td>0.04</td>\n",
       "      <td>0.96</td>\n",
       "      <td>0</td>\n",
       "      <td>1.00</td>\n",
       "      <td>1.00</td>\n",
       "      <td>0.114</td>\n",
       "      <td>...</td>\n",
       "      <td>1600.0</td>\n",
       "      <td>1250.0</td>\n",
       "      <td>4200.0</td>\n",
       "      <td>87.0</td>\n",
       "      <td>1.0</td>\n",
       "      <td>1.0</td>\n",
       "      <td>4200.0</td>\n",
       "      <td>4200.0</td>\n",
       "      <td>2.0</td>\n",
       "      <td>6.0</td>\n",
       "    </tr>\n",
       "    <tr>\n",
       "      <th>3</th>\n",
       "      <td>13</td>\n",
       "      <td>1809708</td>\n",
       "      <td>20180507121358683000000388283484</td>\n",
       "      <td>卡号1</td>\n",
       "      <td>0.00</td>\n",
       "      <td>0.96</td>\n",
       "      <td>2000</td>\n",
       "      <td>0.13</td>\n",
       "      <td>0.57</td>\n",
       "      <td>0.777</td>\n",
       "      <td>...</td>\n",
       "      <td>3200.0</td>\n",
       "      <td>1541.0</td>\n",
       "      <td>16300.0</td>\n",
       "      <td>80.0</td>\n",
       "      <td>5.0</td>\n",
       "      <td>5.0</td>\n",
       "      <td>30000.0</td>\n",
       "      <td>12180.0</td>\n",
       "      <td>2.0</td>\n",
       "      <td>4.0</td>\n",
       "    </tr>\n",
       "    <tr>\n",
       "      <th>4</th>\n",
       "      <td>14</td>\n",
       "      <td>2499829</td>\n",
       "      <td>20180507115448545000000388205844</td>\n",
       "      <td>卡号1</td>\n",
       "      <td>0.01</td>\n",
       "      <td>0.99</td>\n",
       "      <td>0</td>\n",
       "      <td>0.46</td>\n",
       "      <td>1.00</td>\n",
       "      <td>0.175</td>\n",
       "      <td>...</td>\n",
       "      <td>2300.0</td>\n",
       "      <td>1630.0</td>\n",
       "      <td>8300.0</td>\n",
       "      <td>79.0</td>\n",
       "      <td>2.0</td>\n",
       "      <td>2.0</td>\n",
       "      <td>8400.0</td>\n",
       "      <td>8250.0</td>\n",
       "      <td>22.0</td>\n",
       "      <td>120.0</td>\n",
       "    </tr>\n",
       "  </tbody>\n",
       "</table>\n",
       "<p>5 rows × 90 columns</p>\n",
       "</div>"
      ],
      "text/plain": [
       "   Unnamed: 0   custid                          trade_no bank_card_no  \\\n",
       "0           5  2791858  20180507115231274000000023057383          卡号1   \n",
       "1          10   534047  20180507121002192000000023073000          卡号1   \n",
       "2          12  2849787  20180507125159718000000023114911          卡号1   \n",
       "3          13  1809708  20180507121358683000000388283484          卡号1   \n",
       "4          14  2499829  20180507115448545000000388205844          卡号1   \n",
       "\n",
       "   low_volume_percent  middle_volume_percent  \\\n",
       "0                0.01                   0.99   \n",
       "1                0.02                   0.94   \n",
       "2                0.04                   0.96   \n",
       "3                0.00                   0.96   \n",
       "4                0.01                   0.99   \n",
       "\n",
       "   take_amount_in_later_12_month_highest  trans_amount_increase_rate_lately  \\\n",
       "0                                      0                               0.90   \n",
       "1                                   2000                               1.28   \n",
       "2                                      0                               1.00   \n",
       "3                                   2000                               0.13   \n",
       "4                                      0                               0.46   \n",
       "\n",
       "   trans_activity_month  trans_activity_day        ...         \\\n",
       "0                  0.55               0.313        ...          \n",
       "1                  1.00               0.458        ...          \n",
       "2                  1.00               0.114        ...          \n",
       "3                  0.57               0.777        ...          \n",
       "4                  1.00               0.175        ...          \n",
       "\n",
       "   loans_max_limit  loans_avg_limit  consfin_credit_limit  \\\n",
       "0           2900.0           1688.0                1200.0   \n",
       "1           3500.0           1758.0               15100.0   \n",
       "2           1600.0           1250.0                4200.0   \n",
       "3           3200.0           1541.0               16300.0   \n",
       "4           2300.0           1630.0                8300.0   \n",
       "\n",
       "   consfin_credibility  consfin_org_count_current  consfin_product_count  \\\n",
       "0                 75.0                        1.0                    2.0   \n",
       "1                 80.0                        5.0                    6.0   \n",
       "2                 87.0                        1.0                    1.0   \n",
       "3                 80.0                        5.0                    5.0   \n",
       "4                 79.0                        2.0                    2.0   \n",
       "\n",
       "   consfin_max_limit  consfin_avg_limit  latest_query_day  loans_latest_day  \n",
       "0             1200.0             1200.0              12.0              18.0  \n",
       "1            22800.0             9360.0               4.0               2.0  \n",
       "2             4200.0             4200.0               2.0               6.0  \n",
       "3            30000.0            12180.0               2.0               4.0  \n",
       "4             8400.0             8250.0              22.0             120.0  \n",
       "\n",
       "[5 rows x 90 columns]"
      ]
     },
     "execution_count": 1,
     "metadata": {},
     "output_type": "execute_result"
    }
   ],
   "source": [
    "import numpy as np\n",
    "import pandas as pd\n",
    "import matplotlib.pyplot as plt\n",
    "from sklearn.preprocessing import LabelBinarizer,OneHotEncoder,Imputer\n",
    "from sklearn.metrics import accuracy_score, precision_score, recall_score, f1_score\n",
    "from sklearn.metrics import roc_auc_score,roc_curve, auc\n",
    "\n",
    "%matplotlib inline\n",
    "import warnings\n",
    "warnings.filterwarnings('ignore')\n",
    "\n",
    "data_original = pd.read_csv('data.csv', engine='python', skipinitialspace=True)\n",
    "data = data_original.copy()\n",
    "data.head(5)"
   ]
  },
  {
   "cell_type": "markdown",
   "metadata": {},
   "source": [
    "### 删除无关项"
   ]
  },
  {
   "cell_type": "code",
   "execution_count": 2,
   "metadata": {
    "scrolled": true
   },
   "outputs": [
    {
     "name": "stdout",
     "output_type": "stream",
     "text": [
      "<class 'pandas.core.frame.DataFrame'>\n",
      "RangeIndex: 4754 entries, 0 to 4753\n",
      "Data columns (total 90 columns):\n",
      "Unnamed: 0                                    4754 non-null int64\n",
      "custid                                        4754 non-null int64\n",
      "trade_no                                      4754 non-null object\n",
      "bank_card_no                                  4754 non-null object\n",
      "low_volume_percent                            4752 non-null float64\n",
      "middle_volume_percent                         4752 non-null float64\n",
      "take_amount_in_later_12_month_highest         4754 non-null int64\n",
      "trans_amount_increase_rate_lately             4751 non-null float64\n",
      "trans_activity_month                          4752 non-null float64\n",
      "trans_activity_day                            4752 non-null float64\n",
      "transd_mcc                                    4752 non-null float64\n",
      "trans_days_interval_filter                    4746 non-null float64\n",
      "trans_days_interval                           4752 non-null float64\n",
      "regional_mobility                             4752 non-null float64\n",
      "student_feature                               1756 non-null float64\n",
      "repayment_capability                          4754 non-null int64\n",
      "is_high_user                                  4754 non-null int64\n",
      "number_of_trans_from_2011                     4752 non-null float64\n",
      "first_transaction_time                        4752 non-null float64\n",
      "historical_trans_amount                       4754 non-null int64\n",
      "historical_trans_day                          4752 non-null float64\n",
      "rank_trad_1_month                             4752 non-null float64\n",
      "trans_amount_3_month                          4754 non-null int64\n",
      "avg_consume_less_12_valid_month               4752 non-null float64\n",
      "abs                                           4754 non-null int64\n",
      "top_trans_count_last_1_month                  4752 non-null float64\n",
      "avg_price_last_12_month                       4754 non-null int64\n",
      "avg_price_top_last_12_valid_month             4650 non-null float64\n",
      "reg_preference_for_trad                       4752 non-null object\n",
      "trans_top_time_last_1_month                   4746 non-null float64\n",
      "trans_top_time_last_6_month                   4746 non-null float64\n",
      "consume_top_time_last_1_month                 4746 non-null float64\n",
      "consume_top_time_last_6_month                 4746 non-null float64\n",
      "cross_consume_count_last_1_month              4328 non-null float64\n",
      "trans_fail_top_count_enum_last_1_month        4738 non-null float64\n",
      "trans_fail_top_count_enum_last_6_month        4738 non-null float64\n",
      "trans_fail_top_count_enum_last_12_month       4738 non-null float64\n",
      "consume_mini_time_last_1_month                4728 non-null float64\n",
      "max_cumulative_consume_later_1_month          4754 non-null int64\n",
      "max_consume_count_later_6_month               4746 non-null float64\n",
      "railway_consume_count_last_12_month           4742 non-null float64\n",
      "pawns_auctions_trusts_consume_last_1_month    4754 non-null int64\n",
      "pawns_auctions_trusts_consume_last_6_month    4754 non-null int64\n",
      "jewelry_consume_count_last_6_month            4742 non-null float64\n",
      "status                                        4754 non-null int64\n",
      "source                                        4754 non-null object\n",
      "first_transaction_day                         4752 non-null float64\n",
      "trans_day_last_12_month                       4752 non-null float64\n",
      "id_name                                       4478 non-null object\n",
      "apply_score                                   4450 non-null float64\n",
      "apply_credibility                             4450 non-null float64\n",
      "query_org_count                               4450 non-null float64\n",
      "query_finance_count                           4450 non-null float64\n",
      "query_cash_count                              4450 non-null float64\n",
      "query_sum_count                               4450 non-null float64\n",
      "latest_query_time                             4450 non-null object\n",
      "latest_one_month_apply                        4450 non-null float64\n",
      "latest_three_month_apply                      4450 non-null float64\n",
      "latest_six_month_apply                        4450 non-null float64\n",
      "loans_score                                   4457 non-null float64\n",
      "loans_credibility_behavior                    4457 non-null float64\n",
      "loans_count                                   4457 non-null float64\n",
      "loans_settle_count                            4457 non-null float64\n",
      "loans_overdue_count                           4457 non-null float64\n",
      "loans_org_count_behavior                      4457 non-null float64\n",
      "consfin_org_count_behavior                    4457 non-null float64\n",
      "loans_cash_count                              4457 non-null float64\n",
      "latest_one_month_loan                         4457 non-null float64\n",
      "latest_three_month_loan                       4457 non-null float64\n",
      "latest_six_month_loan                         4457 non-null float64\n",
      "history_suc_fee                               4457 non-null float64\n",
      "history_fail_fee                              4457 non-null float64\n",
      "latest_one_month_suc                          4457 non-null float64\n",
      "latest_one_month_fail                         4457 non-null float64\n",
      "loans_long_time                               4457 non-null float64\n",
      "loans_latest_time                             4457 non-null object\n",
      "loans_credit_limit                            4457 non-null float64\n",
      "loans_credibility_limit                       4457 non-null float64\n",
      "loans_org_count_current                       4457 non-null float64\n",
      "loans_product_count                           4457 non-null float64\n",
      "loans_max_limit                               4457 non-null float64\n",
      "loans_avg_limit                               4457 non-null float64\n",
      "consfin_credit_limit                          4457 non-null float64\n",
      "consfin_credibility                           4457 non-null float64\n",
      "consfin_org_count_current                     4457 non-null float64\n",
      "consfin_product_count                         4457 non-null float64\n",
      "consfin_max_limit                             4457 non-null float64\n",
      "consfin_avg_limit                             4457 non-null float64\n",
      "latest_query_day                              4450 non-null float64\n",
      "loans_latest_day                              4457 non-null float64\n",
      "dtypes: float64(70), int64(13), object(7)\n",
      "memory usage: 3.3+ MB\n"
     ]
    }
   ],
   "source": [
    "pd.set_option('display.max_columns', None)\n",
    "pd.set_option('display.max_rows', None)\n",
    "data.info()"
   ]
  },
  {
   "cell_type": "code",
   "execution_count": 3,
   "metadata": {},
   "outputs": [],
   "source": [
    "data.drop(['Unnamed: 0', 'custid', 'trade_no', 'bank_card_no', 'source','id_name'], axis=1, inplace=True)\n",
    "object_cols = [col for col in data.columns if data[col].dtypes == 'O']\n",
    "data_obj = data[object_cols]\n",
    "data_num = data.drop(object_cols,axis=1)"
   ]
  },
  {
   "cell_type": "markdown",
   "metadata": {},
   "source": [
    "### 缺失值补全"
   ]
  },
  {
   "cell_type": "code",
   "execution_count": 4,
   "metadata": {},
   "outputs": [
    {
     "data": {
      "text/plain": [
       "(4754, 90)"
      ]
     },
     "execution_count": 4,
     "metadata": {},
     "output_type": "execute_result"
    }
   ],
   "source": [
    "#缺失值填充\n",
    "imputer=Imputer(strategy='mean')\n",
    "mean_num=imputer.fit_transform(data_num)\n",
    "data_num=pd.DataFrame(mean_num,columns=data_num.columns)\n",
    "data_obj.ffill(inplace=True)\n",
    "#One-HotEncoder\n",
    "encoder = LabelBinarizer()\n",
    "reg_preference_1hot = encoder.fit_transform(data_obj[['reg_preference_for_trad']])\n",
    "data_obj.drop(['reg_preference_for_trad'], axis=1, inplace=True)\n",
    "reg_preference_df = pd.DataFrame(reg_preference_1hot, columns=encoder.classes_)\n",
    "data_obj = pd.concat([data_obj, reg_preference_df], axis=1)\n",
    "\n",
    "#['latest_query_time']  ['loans_latest_time']\n",
    "data_obj['latest_query_time'] = pd.to_datetime(data_obj['latest_query_time'])\n",
    "data_obj['latest_query_time_month'] = data_obj['latest_query_time'].dt.month\n",
    "data_obj['latest_query_time_weekday'] = data_obj['latest_query_time'].dt.weekday\n",
    "\n",
    "data_obj['loans_latest_time'] = pd.to_datetime(data_obj['loans_latest_time'])\n",
    "data_obj['loans_latest_time_month'] = data_obj['loans_latest_time'].dt.month\n",
    "data_obj['loans_latest_time_weekday'] = data_obj['loans_latest_time'].dt.weekday\n",
    "\n",
    "data_obj = data_obj.drop(['latest_query_time', 'loans_latest_time'], axis=1)\n",
    "\n",
    "data=pd.concat([data_num,data_obj],axis=1)\n",
    "data.shape"
   ]
  },
  {
   "cell_type": "markdown",
   "metadata": {},
   "source": [
    "### 数据集切分"
   ]
  },
  {
   "cell_type": "code",
   "execution_count": 5,
   "metadata": {},
   "outputs": [],
   "source": [
    "from sklearn.model_selection import train_test_split\n",
    "y = data['status']\n",
    "X = data.drop(['status'],axis=1)\n",
    "X_train,X_test,y_train,y_test=train_test_split(X,y,test_size=0.3,random_state=2018)"
   ]
  },
  {
   "cell_type": "markdown",
   "metadata": {},
   "source": [
    "### 性能评估"
   ]
  },
  {
   "cell_type": "code",
   "execution_count": 6,
   "metadata": {},
   "outputs": [],
   "source": [
    "from sklearn.metrics import accuracy_score, roc_auc_score\n",
    "# 性能评估\n",
    "def model_metrics(clf, X_train, X_test, y_train, y_test):\n",
    "    # 预测训练集和测试集\n",
    "    y_train_pred = clf.predict(X_train)\n",
    "    y_test_pred = clf.predict(X_test)\n",
    "    \n",
    "    y_train_proba = clf.predict_proba(X_train)[:,1]\n",
    "    y_test_proba = clf.predict_proba(X_test)[:,1]\n",
    "    \n",
    "    # 准确率Accuracy\n",
    "    print('[准确率]', end = ' ')\n",
    "    print('训练集：', '%.4f'%accuracy_score(y_train, y_train_pred), end = ' ')\n",
    "    print('测试集：', '%.4f'%accuracy_score(y_test, y_test_pred))\n",
    "    \n",
    "    # 精准率Precision\n",
    "    print('[精准率]', end = ' ')\n",
    "    print('训练集：', '%.4f'%precision_score(y_train, y_train_pred), end = ' ')\n",
    "    print('测试集：', '%.4f'%precision_score(y_test, y_test_pred))\n",
    "\n",
    "    # 召回率Recall\n",
    "    print('[召回率]', end = ' ')\n",
    "    print('训练集：', '%.4f'%recall_score(y_train, y_train_pred), end = ' ')\n",
    "    print('测试集：', '%.4f'%recall_score(y_test, y_test_pred))\n",
    "    \n",
    "    # f1-score\n",
    "    print('[f1-score]', end = ' ')\n",
    "    print('训练集：', '%.4f'%f1_score(y_train, y_train_pred), end = ' ')\n",
    "    print('测试集：', '%.4f'%f1_score(y_test, y_test_pred))\n",
    "    \n",
    "    # AUC取值\n",
    "    print('[auc值]', end = ' ')\n",
    "    print('训练集：', '%.4f'%roc_auc_score(y_train, y_train_proba), end = ' ')\n",
    "    print('测试集：', '%.4f'%roc_auc_score(y_test, y_test_proba))\n",
    "    \n",
    "    # ROC曲线\n",
    "    fpr_train, tpr_train, thresholds_train = roc_curve(y_train, y_train_proba, pos_label = 1)\n",
    "    fpr_test, tpr_test, thresholds_test = roc_curve(y_test, y_test_proba, pos_label = 1)\n",
    "    \n",
    "    label = [\"Train - AUC:{:.4f}\".format(auc(fpr_train, tpr_train)), \n",
    "             \"Test - AUC:{:.4f}\".format(auc(fpr_test, tpr_test))]\n",
    "    plt.plot(fpr_train,tpr_train)\n",
    "    plt.plot(fpr_test,tpr_test)\n",
    "    plt.plot([0, 1], [0, 1], 'd--')\n",
    "    plt.xlabel('False Positive Rate')\n",
    "    plt.ylabel('True Positive Rate')\n",
    "    plt.legend(label, loc = 4)\n",
    "    plt.title(\"ROC curve\")"
   ]
  },
  {
   "cell_type": "code",
   "execution_count": 7,
   "metadata": {},
   "outputs": [
    {
     "name": "stdout",
     "output_type": "stream",
     "text": [
      "[准确率] 训练集： 0.4950 测试集： 0.4961\n",
      "[精准率] 训练集： 0.2826 测试集： 0.2887\n",
      "[召回率] 训练集： 0.6595 测试集： 0.6852\n",
      "[f1-score] 训练集： 0.3957 测试集： 0.4063\n",
      "[auc值] 训练集： 0.5845 测试集： 0.5699\n"
     ]
    },
    {
     "data": {
      "image/png": "[encoded data removed]",
      "text/plain": [
       "<matplotlib.figure.Figure at 0x27e4d42c358>"
      ]
     },
     "metadata": {},
     "output_type": "display_data"
    }
   ],
   "source": [
    "#构架模型并评价\n",
    "from sklearn.linear_model import LogisticRegressionCV\n",
    "\n",
    "clf=LogisticRegressionCV(class_weight='balanced',max_iter=5000)\n",
    "clf.fit(X_train,y_train)\n",
    "model_metrics(clf, X_train, X_test, y_train, y_test)"
   ]
  },
  {
   "cell_type": "markdown",
   "metadata": {},
   "source": [
    "## IV值"
   ]
  },
  {
   "cell_type": "code",
   "execution_count": 8,
   "metadata": {},
   "outputs": [],
   "source": [
    "import math\n",
    "from scipy import stats\n",
    "from sklearn.utils.multiclass import type_of_target\n",
    "\n",
    "def woe(X, y, event=1):  \n",
    "    res_woe = []\n",
    "    iv_dict = {}\n",
    "    for feature in X.columns:\n",
    "        x = X[feature].values\n",
    "        # 1) 连续特征离散化\n",
    "        if type_of_target(x) == 'continuous':\n",
    "            x = discrete(x)\n",
    "        # 2) 计算该特征的woe和iv\n",
    "        # woe_dict, iv = woe_single_x(x, y, feature, event)\n",
    "        woe_dict, iv = woe_single_x(x, y, feature, event)\n",
    "        iv_dict[feature] = iv\n",
    "        res_woe.append(woe_dict) \n",
    "        \n",
    "    return iv_dict\n",
    "        \n",
    "def discrete(x):\n",
    "    # 使用5等分离散化特征\n",
    "    res = np.zeros(x.shape)\n",
    "    for i in range(5):\n",
    "        point1 = stats.scoreatpercentile(x, i * 20)\n",
    "        point2 = stats.scoreatpercentile(x, (i + 1) * 20)\n",
    "        x1 = x[np.where((x >= point1) & (x <= point2))]\n",
    "        mask = np.in1d(x, x1)\n",
    "        res[mask] = i + 1    # 将[i, i+1]块内的值标记成i+1\n",
    "    return res\n",
    "\n",
    "def woe_single_x(x, y, feature,event = 1):\n",
    "    # event代表预测正例的标签\n",
    "    event_total = sum(y == event)\n",
    "    non_event_total = y.shape[-1] - event_total\n",
    "    \n",
    "    iv = 0\n",
    "    woe_dict = {}\n",
    "    for x1 in set(x):    # 遍历各个块\n",
    "        y1 = y.reindex(np.where(x == x1)[0])\n",
    "        event_count = sum(y1 == event)\n",
    "        non_event_count = y1.shape[-1] - event_count\n",
    "        rate_event = event_count / event_total    \n",
    "        rate_non_event = non_event_count / non_event_total\n",
    "        \n",
    "        if rate_event == 0:\n",
    "            rate_event = 0.0001\n",
    "            # woei = -20\n",
    "        elif rate_non_event == 0:\n",
    "            rate_non_event = 0.0001\n",
    "            # woei = 20\n",
    "        woei = math.log(rate_event / rate_non_event)\n",
    "        woe_dict[x1] = woei\n",
    "        iv += (rate_event - rate_non_event) * woei\n",
    "    return woe_dict, iv"
   ]
  },
  {
   "cell_type": "code",
   "execution_count": 9,
   "metadata": {
    "scrolled": true
   },
   "outputs": [
    {
     "data": {
      "text/plain": [
       "[('historical_trans_amount', 2.6609646134512865),\n",
       " ('trans_amount_3_month', 2.5546436077538357),\n",
       " ('repayment_capability', 2.327229251967252),\n",
       " ('pawns_auctions_trusts_consume_last_6_month', 2.220777389641486),\n",
       " ('abs', 1.966985825643712),\n",
       " ('max_cumulative_consume_later_1_month', 1.4598660465564153),\n",
       " ('pawns_auctions_trusts_consume_last_1_month', 0.8530625616084101),\n",
       " ('avg_price_last_12_month', 0.7281431950917352),\n",
       " ('take_amount_in_later_12_month_highest', 0.4407207265219969),\n",
       " ('latest_query_time_month', 0.25139126628755865),\n",
       " ('loans_latest_time_weekday', 0.24326338644309412),\n",
       " ('history_fail_fee', 0.23601952893571299),\n",
       " ('loans_latest_time_month', 0.23316679232272933),\n",
       " ('latest_query_day', 0.23165030755336188),\n",
       " ('history_suc_fee', 0.23132587006862826),\n",
       " ('trans_days_interval', 0.23127346695672282),\n",
       " ('trans_activity_day', 0.23089021521474926),\n",
       " ('latest_six_month_apply', 0.23004076549705482),\n",
       " ('apply_score', 0.22999736959648898),\n",
       " ('loans_avg_limit', 0.22937233933022275),\n",
       " ('loans_credibility_limit', 0.22923404864220617),\n",
       " ('二线城市', 0.22835785178159998),\n",
       " ('low_volume_percent', 0.22831922306127952),\n",
       " ('consfin_credibility', 0.22804472290267083),\n",
       " ('avg_price_top_last_12_valid_month', 0.22804418697211443),\n",
       " ('latest_three_month_loan', 0.22786568449353656),\n",
       " ('historical_trans_day', 0.22785892580201067),\n",
       " ('latest_one_month_loan', 0.2259858987958161),\n",
       " ('trans_day_last_12_month', 0.2258295769673027),\n",
       " ('loans_cash_count', 0.22582167536745912),\n",
       " ('loans_org_count_current', 0.22582167536745912),\n",
       " ('first_transaction_day', 0.22577667440590374),\n",
       " ('first_transaction_time', 0.22558029316437583),\n",
       " ('trans_amount_increase_rate_lately', 0.22553777250765294),\n",
       " ('middle_volume_percent', 0.22535903805135094),\n",
       " ('consume_top_time_last_6_month', 0.2253530270376462),\n",
       " ('query_org_count', 0.22529059153249648),\n",
       " ('一线城市', 0.2250434530120855),\n",
       " ('trans_top_time_last_6_month', 0.22440575809597219),\n",
       " ('trans_fail_top_count_enum_last_1_month', 0.2242031888186113),\n",
       " ('loans_org_count_behavior', 0.22411751635509966),\n",
       " ('latest_six_month_loan', 0.22372060084022297),\n",
       " ('境外', 0.22366745673000382),\n",
       " ('loans_product_count', 0.223611713328623),\n",
       " ('consfin_avg_limit', 0.22347209785006059),\n",
       " ('trans_days_interval_filter', 0.22340299880606143),\n",
       " ('number_of_trans_from_2011', 0.22308989504593096),\n",
       " ('apply_credibility', 0.22274532659739935),\n",
       " ('loans_overdue_count', 0.22262741793816765),\n",
       " ('loans_score', 0.2225002169626543),\n",
       " ('loans_latest_day', 0.22241446845462567),\n",
       " ('consfin_credit_limit', 0.22228309104879887),\n",
       " ('loans_count', 0.22227945107950234),\n",
       " ('loans_credibility_behavior', 0.22203257178296298),\n",
       " ('loans_settle_count', 0.2219171432554008),\n",
       " ('rank_trad_1_month', 0.2218401640065109),\n",
       " ('query_cash_count', 0.2216362408399449),\n",
       " ('loans_long_time', 0.22161254075577275),\n",
       " ('regional_mobility', 0.22150812112017015),\n",
       " ('latest_query_time_weekday', 0.2215008902334139),\n",
       " ('query_sum_count', 0.2210085646317297),\n",
       " ('consume_top_time_last_1_month', 0.2206710654401162),\n",
       " ('consume_mini_time_last_1_month', 0.22038175378437908),\n",
       " ('trans_fail_top_count_enum_last_12_month', 0.22027549211946645),\n",
       " ('consfin_max_limit', 0.22016256897174105),\n",
       " ('trans_activity_month', 0.22015938020797166),\n",
       " ('top_trans_count_last_1_month', 0.22013392802621778),\n",
       " ('latest_one_month_apply', 0.2198386582706197),\n",
       " ('consfin_product_count', 0.21981612729230302),\n",
       " ('max_consume_count_later_6_month', 0.21980267330646783),\n",
       " ('latest_three_month_apply', 0.219745341760752),\n",
       " ('consfin_org_count_behavior', 0.21964389703494608),\n",
       " ('consfin_org_count_current', 0.21964389703494608),\n",
       " ('avg_consume_less_12_valid_month', 0.21883300876505346),\n",
       " ('trans_fail_top_count_enum_last_6_month', 0.21882948763455295),\n",
       " ('cross_consume_count_last_1_month', 0.21869363923411914),\n",
       " ('transd_mcc', 0.21865573796739254),\n",
       " ('其他城市', 0.2185500702073389),\n",
       " ('student_feature', 0.21833192508051125),\n",
       " ('loans_credit_limit', 0.21821927461429466),\n",
       " ('trans_top_time_last_1_month', 0.21803681758281673),\n",
       " ('query_finance_count', 0.21790525591920654),\n",
       " ('loans_max_limit', 0.21760772188869903),\n",
       " ('三线城市', 0.21755723341508837),\n",
       " ('latest_one_month_fail', 0.21753031430667408),\n",
       " ('is_high_user', 0.2175215044170788),\n",
       " ('latest_one_month_suc', 0.21715553601300325),\n",
       " ('railway_consume_count_last_12_month', 0.21687601425054276),\n",
       " ('jewelry_consume_count_last_6_month', 0.21687601425054276)]"
      ]
     },
     "execution_count": 9,
     "metadata": {},
     "output_type": "execute_result"
    }
   ],
   "source": [
    "iv_dict = woe(X_train, y_train)\n",
    "iv = sorted(iv_dict.items(), key = lambda x:x[1],reverse = True)\n",
    "iv"
   ]
  },
  {
   "cell_type": "code",
   "execution_count": 10,
   "metadata": {},
   "outputs": [],
   "source": [
    "threshold = 0.1\n",
    "data_index = []\n",
    "for i in range(len(iv)):\n",
    "    if iv[i][1] < threshold:\n",
    "        data_index.append(iv[i])\n",
    "        print(iv[i])\n",
    "#X_train.drop(data_index, axis=1, inplace=True)\n"
   ]
  },
  {
   "cell_type": "markdown",
   "metadata": {},
   "source": [
    "## 使用随机森林选择特征"
   ]
  },
  {
   "cell_type": "code",
   "execution_count": 11,
   "metadata": {},
   "outputs": [
    {
     "name": "stdout",
     "output_type": "stream",
     "text": [
      "袋外分数： 0.7868951006913135\n",
      "[准确率] 训练集： 0.8200 测试集： 0.7800\n",
      "[精准率] 训练集： 0.9038 测试集： 0.7228\n",
      "[召回率] 训练集： 0.3153 测试集： 0.2033\n",
      "[f1-score] 训练集： 0.4676 测试集： 0.3174\n",
      "[auc值] 训练集： 0.9010 测试集： 0.7686\n"
     ]
    },
    {
     "data": {
      "image/png": "[encoded data removed]",
      "text/plain": [
       "<matplotlib.figure.Figure at 0x27e4d5b2320>"
      ]
     },
     "metadata": {},
     "output_type": "display_data"
    }
   ],
   "source": [
    "from sklearn.ensemble import RandomForestClassifier\n",
    "\n",
    "rf = RandomForestClassifier(n_estimators=120, max_depth=9, min_samples_split=50,\n",
    "                            min_samples_leaf=20, max_features = 9,oob_score=True, random_state=2333)\n",
    "rf.fit(X_train, y_train)\n",
    "print('袋外分数：', rf.oob_score_)\n",
    "model_metrics(rf, X_train, X_test, y_train, y_test)\n",
    "feature_importance1 = sorted(zip(map(lambda x: '%.4f'%x, rf.feature_importances_), list(X_train.columns)), reverse=True)"
   ]
  },
  {
   "cell_type": "code",
   "execution_count": 12,
   "metadata": {
    "scrolled": true
   },
   "outputs": [
    {
     "data": {
      "text/plain": [
       "[('0.1361', 'trans_fail_top_count_enum_last_1_month'),\n",
       " ('0.0933', 'history_fail_fee'),\n",
       " ('0.0779', 'loans_score'),\n",
       " ('0.0513', 'loans_overdue_count'),\n",
       " ('0.0508', 'apply_score'),\n",
       " ('0.0379', 'latest_one_month_fail'),\n",
       " ('0.0365', 'trans_fail_top_count_enum_last_6_month'),\n",
       " ('0.0284', 'trans_fail_top_count_enum_last_12_month'),\n",
       " ('0.0199', 'trans_day_last_12_month'),\n",
       " ('0.0191', 'latest_one_month_suc'),\n",
       " ('0.0180', 'max_cumulative_consume_later_1_month'),\n",
       " ('0.0142', 'consfin_avg_limit'),\n",
       " ('0.0140', 'rank_trad_1_month'),\n",
       " ('0.0132', 'trans_amount_3_month'),\n",
       " ('0.0128', 'consume_top_time_last_1_month'),\n",
       " ('0.0125', 'latest_query_day'),\n",
       " ('0.0109', 'historical_trans_amount'),\n",
       " ('0.0099', 'trans_top_time_last_1_month'),\n",
       " ('0.0099', 'trans_activity_day'),\n",
       " ('0.0099', 'historical_trans_day'),\n",
       " ('0.0098', 'history_suc_fee'),\n",
       " ('0.0094', 'first_transaction_time'),\n",
       " ('0.0090', 'loans_latest_day'),\n",
       " ('0.0090', 'consfin_credit_limit'),\n",
       " ('0.0085', 'loans_count'),\n",
       " ('0.0084', 'loans_settle_count'),\n",
       " ('0.0083', 'trans_amount_increase_rate_lately'),\n",
       " ('0.0083', 'top_trans_count_last_1_month'),\n",
       " ('0.0079', 'latest_three_month_loan'),\n",
       " ('0.0079', 'first_transaction_day'),\n",
       " ('0.0079', 'consume_top_time_last_6_month'),\n",
       " ('0.0077', 'trans_days_interval'),\n",
       " ('0.0077', 'avg_price_last_12_month'),\n",
       " ('0.0075', 'loans_long_time'),\n",
       " ('0.0074', 'repayment_capability'),\n",
       " ('0.0073', 'consfin_max_limit'),\n",
       " ('0.0070', 'trans_top_time_last_6_month'),\n",
       " ('0.0070', 'trans_days_interval_filter'),\n",
       " ('0.0070', 'pawns_auctions_trusts_consume_last_6_month'),\n",
       " ('0.0070', 'latest_three_month_apply'),\n",
       " ('0.0068', 'trans_activity_month'),\n",
       " ('0.0067', 'loans_avg_limit'),\n",
       " ('0.0063', 'pawns_auctions_trusts_consume_last_1_month'),\n",
       " ('0.0061', 'consfin_credibility'),\n",
       " ('0.0060', 'loans_max_limit'),\n",
       " ('0.0058', 'loans_org_count_behavior'),\n",
       " ('0.0058', 'latest_six_month_loan'),\n",
       " ('0.0058', 'abs'),\n",
       " ('0.0054', 'apply_credibility'),\n",
       " ('0.0053', 'consume_mini_time_last_1_month'),\n",
       " ('0.0050', 'transd_mcc'),\n",
       " ('0.0050', 'consfin_product_count'),\n",
       " ('0.0049', 'avg_price_top_last_12_valid_month'),\n",
       " ('0.0048', 'latest_six_month_apply'),\n",
       " ('0.0047', 'take_amount_in_later_12_month_highest'),\n",
       " ('0.0047', 'loans_product_count'),\n",
       " ('0.0046', 'loans_cash_count'),\n",
       " ('0.0046', 'consfin_org_count_current'),\n",
       " ('0.0042', 'number_of_trans_from_2011'),\n",
       " ('0.0040', 'query_cash_count'),\n",
       " ('0.0040', 'loans_org_count_current'),\n",
       " ('0.0039', 'query_sum_count'),\n",
       " ('0.0039', 'loans_credit_limit'),\n",
       " ('0.0038', 'middle_volume_percent'),\n",
       " ('0.0036', 'consfin_org_count_behavior'),\n",
       " ('0.0035', 'max_consume_count_later_6_month'),\n",
       " ('0.0035', 'loans_credibility_behavior'),\n",
       " ('0.0034', 'query_finance_count'),\n",
       " ('0.0033', 'loans_latest_time_weekday'),\n",
       " ('0.0031', 'latest_one_month_apply'),\n",
       " ('0.0030', 'query_org_count'),\n",
       " ('0.0029', 'loans_credibility_limit'),\n",
       " ('0.0025', 'loans_latest_time_month'),\n",
       " ('0.0024', 'latest_query_time_weekday'),\n",
       " ('0.0018', 'latest_one_month_loan'),\n",
       " ('0.0016', 'latest_query_time_month'),\n",
       " ('0.0015', 'low_volume_percent'),\n",
       " ('0.0015', 'avg_consume_less_12_valid_month'),\n",
       " ('0.0011', 'cross_consume_count_last_1_month'),\n",
       " ('0.0009', '一线城市'),\n",
       " ('0.0009', 'regional_mobility'),\n",
       " ('0.0007', 'student_feature'),\n",
       " ('0.0004', '三线城市'),\n",
       " ('0.0000', '境外'),\n",
       " ('0.0000', '其他城市'),\n",
       " ('0.0000', '二线城市'),\n",
       " ('0.0000', 'railway_consume_count_last_12_month'),\n",
       " ('0.0000', 'jewelry_consume_count_last_6_month'),\n",
       " ('0.0000', 'is_high_user')]"
      ]
     },
     "execution_count": 12,
     "metadata": {},
     "output_type": "execute_result"
    }
   ],
   "source": [
    "feature_importance1"
   ]
  },
  {
   "cell_type": "code",
   "execution_count": 13,
   "metadata": {},
   "outputs": [
    {
     "data": {
      "text/html": [
       "<div>\n",
       "<style scoped>\n",
       "    .dataframe tbody tr th:only-of-type {\n",
       "        vertical-align: middle;\n",
       "    }\n",
       "\n",
       "    .dataframe tbody tr th {\n",
       "        vertical-align: top;\n",
       "    }\n",
       "\n",
       "    .dataframe thead th {\n",
       "        text-align: right;\n",
       "    }\n",
       "</style>\n",
       "<table border=\"1\" class=\"dataframe\">\n",
       "  <thead>\n",
       "    <tr style=\"text-align: right;\">\n",
       "      <th></th>\n",
       "      <th>low_volume_percent</th>\n",
       "      <th>middle_volume_percent</th>\n",
       "      <th>take_amount_in_later_12_month_highest</th>\n",
       "      <th>trans_amount_increase_rate_lately</th>\n",
       "      <th>trans_activity_month</th>\n",
       "      <th>trans_activity_day</th>\n",
       "      <th>transd_mcc</th>\n",
       "      <th>trans_days_interval_filter</th>\n",
       "      <th>trans_days_interval</th>\n",
       "      <th>regional_mobility</th>\n",
       "      <th>student_feature</th>\n",
       "      <th>repayment_capability</th>\n",
       "      <th>is_high_user</th>\n",
       "      <th>number_of_trans_from_2011</th>\n",
       "      <th>first_transaction_time</th>\n",
       "      <th>historical_trans_amount</th>\n",
       "      <th>historical_trans_day</th>\n",
       "      <th>rank_trad_1_month</th>\n",
       "      <th>trans_amount_3_month</th>\n",
       "      <th>avg_consume_less_12_valid_month</th>\n",
       "      <th>abs</th>\n",
       "      <th>top_trans_count_last_1_month</th>\n",
       "      <th>avg_price_last_12_month</th>\n",
       "      <th>avg_price_top_last_12_valid_month</th>\n",
       "      <th>trans_top_time_last_1_month</th>\n",
       "      <th>trans_top_time_last_6_month</th>\n",
       "      <th>consume_top_time_last_1_month</th>\n",
       "      <th>consume_top_time_last_6_month</th>\n",
       "      <th>cross_consume_count_last_1_month</th>\n",
       "      <th>trans_fail_top_count_enum_last_1_month</th>\n",
       "      <th>trans_fail_top_count_enum_last_6_month</th>\n",
       "      <th>trans_fail_top_count_enum_last_12_month</th>\n",
       "      <th>consume_mini_time_last_1_month</th>\n",
       "      <th>max_cumulative_consume_later_1_month</th>\n",
       "      <th>max_consume_count_later_6_month</th>\n",
       "      <th>railway_consume_count_last_12_month</th>\n",
       "      <th>pawns_auctions_trusts_consume_last_1_month</th>\n",
       "      <th>pawns_auctions_trusts_consume_last_6_month</th>\n",
       "      <th>jewelry_consume_count_last_6_month</th>\n",
       "      <th>first_transaction_day</th>\n",
       "      <th>trans_day_last_12_month</th>\n",
       "      <th>apply_score</th>\n",
       "      <th>apply_credibility</th>\n",
       "      <th>query_org_count</th>\n",
       "      <th>query_finance_count</th>\n",
       "      <th>query_cash_count</th>\n",
       "      <th>query_sum_count</th>\n",
       "      <th>latest_one_month_apply</th>\n",
       "      <th>latest_three_month_apply</th>\n",
       "      <th>latest_six_month_apply</th>\n",
       "      <th>loans_score</th>\n",
       "      <th>loans_credibility_behavior</th>\n",
       "      <th>loans_count</th>\n",
       "      <th>loans_settle_count</th>\n",
       "      <th>loans_overdue_count</th>\n",
       "      <th>loans_org_count_behavior</th>\n",
       "      <th>consfin_org_count_behavior</th>\n",
       "      <th>loans_cash_count</th>\n",
       "      <th>latest_one_month_loan</th>\n",
       "      <th>latest_three_month_loan</th>\n",
       "      <th>latest_six_month_loan</th>\n",
       "      <th>history_suc_fee</th>\n",
       "      <th>history_fail_fee</th>\n",
       "      <th>latest_one_month_suc</th>\n",
       "      <th>latest_one_month_fail</th>\n",
       "      <th>loans_long_time</th>\n",
       "      <th>loans_credit_limit</th>\n",
       "      <th>loans_credibility_limit</th>\n",
       "      <th>loans_org_count_current</th>\n",
       "      <th>loans_product_count</th>\n",
       "      <th>loans_max_limit</th>\n",
       "      <th>loans_avg_limit</th>\n",
       "      <th>consfin_credit_limit</th>\n",
       "      <th>consfin_credibility</th>\n",
       "      <th>consfin_org_count_current</th>\n",
       "      <th>consfin_product_count</th>\n",
       "      <th>consfin_max_limit</th>\n",
       "      <th>consfin_avg_limit</th>\n",
       "      <th>latest_query_day</th>\n",
       "      <th>loans_latest_day</th>\n",
       "      <th>一线城市</th>\n",
       "      <th>三线城市</th>\n",
       "      <th>二线城市</th>\n",
       "      <th>其他城市</th>\n",
       "      <th>境外</th>\n",
       "      <th>latest_query_time_month</th>\n",
       "      <th>latest_query_time_weekday</th>\n",
       "      <th>loans_latest_time_month</th>\n",
       "      <th>loans_latest_time_weekday</th>\n",
       "    </tr>\n",
       "  </thead>\n",
       "  <tbody>\n",
       "    <tr>\n",
       "      <th>110</th>\n",
       "      <td>0.01</td>\n",
       "      <td>0.99</td>\n",
       "      <td>4000.0</td>\n",
       "      <td>0.96</td>\n",
       "      <td>1.00</td>\n",
       "      <td>0.405</td>\n",
       "      <td>16.0</td>\n",
       "      <td>29.0</td>\n",
       "      <td>28.0</td>\n",
       "      <td>1.0</td>\n",
       "      <td>1.000000</td>\n",
       "      <td>17570.0</td>\n",
       "      <td>0.0</td>\n",
       "      <td>13.0</td>\n",
       "      <td>20170217.0</td>\n",
       "      <td>181770.0</td>\n",
       "      <td>150.0</td>\n",
       "      <td>0.85</td>\n",
       "      <td>15610.0</td>\n",
       "      <td>7.0</td>\n",
       "      <td>2650.0</td>\n",
       "      <td>1.00</td>\n",
       "      <td>1220.0</td>\n",
       "      <td>0.45</td>\n",
       "      <td>0.0</td>\n",
       "      <td>29.0</td>\n",
       "      <td>0.0</td>\n",
       "      <td>29.0</td>\n",
       "      <td>0.0</td>\n",
       "      <td>6.0</td>\n",
       "      <td>9.0</td>\n",
       "      <td>9.0</td>\n",
       "      <td>0.0</td>\n",
       "      <td>220.0</td>\n",
       "      <td>6.0</td>\n",
       "      <td>0.0</td>\n",
       "      <td>0.0</td>\n",
       "      <td>10160.0</td>\n",
       "      <td>0.0</td>\n",
       "      <td>458.0</td>\n",
       "      <td>99.0</td>\n",
       "      <td>535.0</td>\n",
       "      <td>73.0</td>\n",
       "      <td>16.0</td>\n",
       "      <td>6.0</td>\n",
       "      <td>7.0</td>\n",
       "      <td>24.0</td>\n",
       "      <td>5.0</td>\n",
       "      <td>12.0</td>\n",
       "      <td>15.0</td>\n",
       "      <td>498.0</td>\n",
       "      <td>73.0</td>\n",
       "      <td>92.0</td>\n",
       "      <td>77.0</td>\n",
       "      <td>7.0</td>\n",
       "      <td>27.0</td>\n",
       "      <td>7.0</td>\n",
       "      <td>20.0</td>\n",
       "      <td>1.0</td>\n",
       "      <td>3.0</td>\n",
       "      <td>34.0</td>\n",
       "      <td>85.0</td>\n",
       "      <td>52.0</td>\n",
       "      <td>0.0</td>\n",
       "      <td>3.0</td>\n",
       "      <td>356.0</td>\n",
       "      <td>2400.0</td>\n",
       "      <td>72.0</td>\n",
       "      <td>20.0</td>\n",
       "      <td>22.0</td>\n",
       "      <td>5000.0</td>\n",
       "      <td>1845.0</td>\n",
       "      <td>10600.0</td>\n",
       "      <td>81.0</td>\n",
       "      <td>7.0</td>\n",
       "      <td>7.0</td>\n",
       "      <td>15600.0</td>\n",
       "      <td>8228.0</td>\n",
       "      <td>0.0</td>\n",
       "      <td>9.0</td>\n",
       "      <td>1</td>\n",
       "      <td>0</td>\n",
       "      <td>0</td>\n",
       "      <td>0</td>\n",
       "      <td>0</td>\n",
       "      <td>5</td>\n",
       "      <td>4</td>\n",
       "      <td>4</td>\n",
       "      <td>2</td>\n",
       "    </tr>\n",
       "    <tr>\n",
       "      <th>3394</th>\n",
       "      <td>0.03</td>\n",
       "      <td>0.97</td>\n",
       "      <td>500.0</td>\n",
       "      <td>0.87</td>\n",
       "      <td>1.00</td>\n",
       "      <td>0.205</td>\n",
       "      <td>18.0</td>\n",
       "      <td>27.0</td>\n",
       "      <td>27.0</td>\n",
       "      <td>3.0</td>\n",
       "      <td>1.001139</td>\n",
       "      <td>15310.0</td>\n",
       "      <td>0.0</td>\n",
       "      <td>12.0</td>\n",
       "      <td>20170331.0</td>\n",
       "      <td>63350.0</td>\n",
       "      <td>74.0</td>\n",
       "      <td>0.65</td>\n",
       "      <td>12200.0</td>\n",
       "      <td>6.0</td>\n",
       "      <td>3460.0</td>\n",
       "      <td>0.40</td>\n",
       "      <td>630.0</td>\n",
       "      <td>0.65</td>\n",
       "      <td>14.0</td>\n",
       "      <td>17.0</td>\n",
       "      <td>14.0</td>\n",
       "      <td>17.0</td>\n",
       "      <td>1.0</td>\n",
       "      <td>1.0</td>\n",
       "      <td>4.0</td>\n",
       "      <td>9.0</td>\n",
       "      <td>0.0</td>\n",
       "      <td>470.0</td>\n",
       "      <td>4.0</td>\n",
       "      <td>0.0</td>\n",
       "      <td>470.0</td>\n",
       "      <td>2060.0</td>\n",
       "      <td>0.0</td>\n",
       "      <td>416.0</td>\n",
       "      <td>82.0</td>\n",
       "      <td>540.0</td>\n",
       "      <td>81.0</td>\n",
       "      <td>8.0</td>\n",
       "      <td>3.0</td>\n",
       "      <td>3.0</td>\n",
       "      <td>9.0</td>\n",
       "      <td>1.0</td>\n",
       "      <td>3.0</td>\n",
       "      <td>6.0</td>\n",
       "      <td>510.0</td>\n",
       "      <td>76.0</td>\n",
       "      <td>19.0</td>\n",
       "      <td>16.0</td>\n",
       "      <td>3.0</td>\n",
       "      <td>7.0</td>\n",
       "      <td>5.0</td>\n",
       "      <td>2.0</td>\n",
       "      <td>1.0</td>\n",
       "      <td>1.0</td>\n",
       "      <td>5.0</td>\n",
       "      <td>22.0</td>\n",
       "      <td>11.0</td>\n",
       "      <td>1.0</td>\n",
       "      <td>0.0</td>\n",
       "      <td>357.0</td>\n",
       "      <td>2400.0</td>\n",
       "      <td>73.0</td>\n",
       "      <td>2.0</td>\n",
       "      <td>2.0</td>\n",
       "      <td>2600.0</td>\n",
       "      <td>1800.0</td>\n",
       "      <td>16300.0</td>\n",
       "      <td>78.0</td>\n",
       "      <td>5.0</td>\n",
       "      <td>5.0</td>\n",
       "      <td>21600.0</td>\n",
       "      <td>7160.0</td>\n",
       "      <td>30.0</td>\n",
       "      <td>27.0</td>\n",
       "      <td>1</td>\n",
       "      <td>0</td>\n",
       "      <td>0</td>\n",
       "      <td>0</td>\n",
       "      <td>0</td>\n",
       "      <td>4</td>\n",
       "      <td>5</td>\n",
       "      <td>4</td>\n",
       "      <td>1</td>\n",
       "    </tr>\n",
       "    <tr>\n",
       "      <th>3052</th>\n",
       "      <td>0.02</td>\n",
       "      <td>0.86</td>\n",
       "      <td>0.0</td>\n",
       "      <td>1.98</td>\n",
       "      <td>0.70</td>\n",
       "      <td>0.205</td>\n",
       "      <td>18.0</td>\n",
       "      <td>53.0</td>\n",
       "      <td>33.0</td>\n",
       "      <td>2.0</td>\n",
       "      <td>1.001139</td>\n",
       "      <td>12240.0</td>\n",
       "      <td>0.0</td>\n",
       "      <td>28.0</td>\n",
       "      <td>20141110.0</td>\n",
       "      <td>97190.0</td>\n",
       "      <td>93.0</td>\n",
       "      <td>0.45</td>\n",
       "      <td>33280.0</td>\n",
       "      <td>8.0</td>\n",
       "      <td>1060.0</td>\n",
       "      <td>0.30</td>\n",
       "      <td>930.0</td>\n",
       "      <td>0.55</td>\n",
       "      <td>11.0</td>\n",
       "      <td>21.0</td>\n",
       "      <td>11.0</td>\n",
       "      <td>21.0</td>\n",
       "      <td>0.0</td>\n",
       "      <td>0.0</td>\n",
       "      <td>4.0</td>\n",
       "      <td>21.0</td>\n",
       "      <td>0.0</td>\n",
       "      <td>1950.0</td>\n",
       "      <td>12.0</td>\n",
       "      <td>0.0</td>\n",
       "      <td>1950.0</td>\n",
       "      <td>8240.0</td>\n",
       "      <td>0.0</td>\n",
       "      <td>1288.0</td>\n",
       "      <td>82.0</td>\n",
       "      <td>516.0</td>\n",
       "      <td>75.0</td>\n",
       "      <td>14.0</td>\n",
       "      <td>8.0</td>\n",
       "      <td>6.0</td>\n",
       "      <td>19.0</td>\n",
       "      <td>5.0</td>\n",
       "      <td>8.0</td>\n",
       "      <td>12.0</td>\n",
       "      <td>482.0</td>\n",
       "      <td>77.0</td>\n",
       "      <td>16.0</td>\n",
       "      <td>16.0</td>\n",
       "      <td>2.0</td>\n",
       "      <td>8.0</td>\n",
       "      <td>5.0</td>\n",
       "      <td>3.0</td>\n",
       "      <td>0.0</td>\n",
       "      <td>0.0</td>\n",
       "      <td>7.0</td>\n",
       "      <td>20.0</td>\n",
       "      <td>5.0</td>\n",
       "      <td>0.0</td>\n",
       "      <td>0.0</td>\n",
       "      <td>314.0</td>\n",
       "      <td>1400.0</td>\n",
       "      <td>66.0</td>\n",
       "      <td>3.0</td>\n",
       "      <td>3.0</td>\n",
       "      <td>2300.0</td>\n",
       "      <td>1500.0</td>\n",
       "      <td>10400.0</td>\n",
       "      <td>82.0</td>\n",
       "      <td>5.0</td>\n",
       "      <td>5.0</td>\n",
       "      <td>13800.0</td>\n",
       "      <td>10320.0</td>\n",
       "      <td>3.0</td>\n",
       "      <td>137.0</td>\n",
       "      <td>1</td>\n",
       "      <td>0</td>\n",
       "      <td>0</td>\n",
       "      <td>0</td>\n",
       "      <td>0</td>\n",
       "      <td>5</td>\n",
       "      <td>4</td>\n",
       "      <td>12</td>\n",
       "      <td>3</td>\n",
       "    </tr>\n",
       "    <tr>\n",
       "      <th>490</th>\n",
       "      <td>0.02</td>\n",
       "      <td>0.81</td>\n",
       "      <td>1000.0</td>\n",
       "      <td>1.49</td>\n",
       "      <td>0.73</td>\n",
       "      <td>0.555</td>\n",
       "      <td>23.0</td>\n",
       "      <td>15.0</td>\n",
       "      <td>8.0</td>\n",
       "      <td>4.0</td>\n",
       "      <td>1.000000</td>\n",
       "      <td>4320.0</td>\n",
       "      <td>0.0</td>\n",
       "      <td>40.0</td>\n",
       "      <td>20130817.0</td>\n",
       "      <td>373700.0</td>\n",
       "      <td>356.0</td>\n",
       "      <td>0.30</td>\n",
       "      <td>61940.0</td>\n",
       "      <td>8.0</td>\n",
       "      <td>26200.0</td>\n",
       "      <td>0.10</td>\n",
       "      <td>1390.0</td>\n",
       "      <td>0.45</td>\n",
       "      <td>15.0</td>\n",
       "      <td>15.0</td>\n",
       "      <td>15.0</td>\n",
       "      <td>15.0</td>\n",
       "      <td>1.0</td>\n",
       "      <td>8.0</td>\n",
       "      <td>8.0</td>\n",
       "      <td>8.0</td>\n",
       "      <td>42936.0</td>\n",
       "      <td>3090.0</td>\n",
       "      <td>7.0</td>\n",
       "      <td>0.0</td>\n",
       "      <td>3140.0</td>\n",
       "      <td>67720.0</td>\n",
       "      <td>0.0</td>\n",
       "      <td>1738.0</td>\n",
       "      <td>82.0</td>\n",
       "      <td>491.0</td>\n",
       "      <td>74.0</td>\n",
       "      <td>11.0</td>\n",
       "      <td>6.0</td>\n",
       "      <td>4.0</td>\n",
       "      <td>12.0</td>\n",
       "      <td>1.0</td>\n",
       "      <td>4.0</td>\n",
       "      <td>7.0</td>\n",
       "      <td>448.0</td>\n",
       "      <td>78.0</td>\n",
       "      <td>40.0</td>\n",
       "      <td>22.0</td>\n",
       "      <td>7.0</td>\n",
       "      <td>17.0</td>\n",
       "      <td>11.0</td>\n",
       "      <td>6.0</td>\n",
       "      <td>0.0</td>\n",
       "      <td>3.0</td>\n",
       "      <td>18.0</td>\n",
       "      <td>40.0</td>\n",
       "      <td>78.0</td>\n",
       "      <td>0.0</td>\n",
       "      <td>10.0</td>\n",
       "      <td>356.0</td>\n",
       "      <td>2600.0</td>\n",
       "      <td>76.0</td>\n",
       "      <td>6.0</td>\n",
       "      <td>7.0</td>\n",
       "      <td>4500.0</td>\n",
       "      <td>2500.0</td>\n",
       "      <td>6600.0</td>\n",
       "      <td>78.0</td>\n",
       "      <td>11.0</td>\n",
       "      <td>12.0</td>\n",
       "      <td>17400.0</td>\n",
       "      <td>6418.0</td>\n",
       "      <td>20.0</td>\n",
       "      <td>51.0</td>\n",
       "      <td>0</td>\n",
       "      <td>1</td>\n",
       "      <td>0</td>\n",
       "      <td>0</td>\n",
       "      <td>0</td>\n",
       "      <td>4</td>\n",
       "      <td>1</td>\n",
       "      <td>3</td>\n",
       "      <td>5</td>\n",
       "    </tr>\n",
       "    <tr>\n",
       "      <th>1</th>\n",
       "      <td>0.02</td>\n",
       "      <td>0.94</td>\n",
       "      <td>2000.0</td>\n",
       "      <td>1.28</td>\n",
       "      <td>1.00</td>\n",
       "      <td>0.458</td>\n",
       "      <td>19.0</td>\n",
       "      <td>30.0</td>\n",
       "      <td>14.0</td>\n",
       "      <td>4.0</td>\n",
       "      <td>1.000000</td>\n",
       "      <td>16970.0</td>\n",
       "      <td>0.0</td>\n",
       "      <td>23.0</td>\n",
       "      <td>20160402.0</td>\n",
       "      <td>302910.0</td>\n",
       "      <td>224.0</td>\n",
       "      <td>0.35</td>\n",
       "      <td>10590.0</td>\n",
       "      <td>5.0</td>\n",
       "      <td>6950.0</td>\n",
       "      <td>0.05</td>\n",
       "      <td>1210.0</td>\n",
       "      <td>0.50</td>\n",
       "      <td>13.0</td>\n",
       "      <td>30.0</td>\n",
       "      <td>13.0</td>\n",
       "      <td>30.0</td>\n",
       "      <td>0.0</td>\n",
       "      <td>0.0</td>\n",
       "      <td>3.0</td>\n",
       "      <td>3.0</td>\n",
       "      <td>330.0</td>\n",
       "      <td>2100.0</td>\n",
       "      <td>9.0</td>\n",
       "      <td>0.0</td>\n",
       "      <td>1820.0</td>\n",
       "      <td>15680.0</td>\n",
       "      <td>0.0</td>\n",
       "      <td>779.0</td>\n",
       "      <td>84.0</td>\n",
       "      <td>653.0</td>\n",
       "      <td>73.0</td>\n",
       "      <td>7.0</td>\n",
       "      <td>4.0</td>\n",
       "      <td>2.0</td>\n",
       "      <td>8.0</td>\n",
       "      <td>2.0</td>\n",
       "      <td>6.0</td>\n",
       "      <td>8.0</td>\n",
       "      <td>635.0</td>\n",
       "      <td>76.0</td>\n",
       "      <td>37.0</td>\n",
       "      <td>36.0</td>\n",
       "      <td>0.0</td>\n",
       "      <td>17.0</td>\n",
       "      <td>5.0</td>\n",
       "      <td>12.0</td>\n",
       "      <td>2.0</td>\n",
       "      <td>2.0</td>\n",
       "      <td>8.0</td>\n",
       "      <td>49.0</td>\n",
       "      <td>4.0</td>\n",
       "      <td>2.0</td>\n",
       "      <td>1.0</td>\n",
       "      <td>353.0</td>\n",
       "      <td>2000.0</td>\n",
       "      <td>74.0</td>\n",
       "      <td>12.0</td>\n",
       "      <td>12.0</td>\n",
       "      <td>3500.0</td>\n",
       "      <td>1758.0</td>\n",
       "      <td>15100.0</td>\n",
       "      <td>80.0</td>\n",
       "      <td>5.0</td>\n",
       "      <td>6.0</td>\n",
       "      <td>22800.0</td>\n",
       "      <td>9360.0</td>\n",
       "      <td>4.0</td>\n",
       "      <td>2.0</td>\n",
       "      <td>1</td>\n",
       "      <td>0</td>\n",
       "      <td>0</td>\n",
       "      <td>0</td>\n",
       "      <td>0</td>\n",
       "      <td>5</td>\n",
       "      <td>3</td>\n",
       "      <td>5</td>\n",
       "      <td>5</td>\n",
       "    </tr>\n",
       "  </tbody>\n",
       "</table>\n",
       "</div>"
      ],
      "text/plain": [
       "      low_volume_percent  middle_volume_percent  \\\n",
       "110                 0.01                   0.99   \n",
       "3394                0.03                   0.97   \n",
       "3052                0.02                   0.86   \n",
       "490                 0.02                   0.81   \n",
       "1                   0.02                   0.94   \n",
       "\n",
       "      take_amount_in_later_12_month_highest  \\\n",
       "110                                  4000.0   \n",
       "3394                                  500.0   \n",
       "3052                                    0.0   \n",
       "490                                  1000.0   \n",
       "1                                    2000.0   \n",
       "\n",
       "      trans_amount_increase_rate_lately  trans_activity_month  \\\n",
       "110                                0.96                  1.00   \n",
       "3394                               0.87                  1.00   \n",
       "3052                               1.98                  0.70   \n",
       "490                                1.49                  0.73   \n",
       "1                                  1.28                  1.00   \n",
       "\n",
       "      trans_activity_day  transd_mcc  trans_days_interval_filter  \\\n",
       "110                0.405        16.0                        29.0   \n",
       "3394               0.205        18.0                        27.0   \n",
       "3052               0.205        18.0                        53.0   \n",
       "490                0.555        23.0                        15.0   \n",
       "1                  0.458        19.0                        30.0   \n",
       "\n",
       "      trans_days_interval  regional_mobility  student_feature  \\\n",
       "110                  28.0                1.0         1.000000   \n",
       "3394                 27.0                3.0         1.001139   \n",
       "3052                 33.0                2.0         1.001139   \n",
       "490                   8.0                4.0         1.000000   \n",
       "1                    14.0                4.0         1.000000   \n",
       "\n",
       "      repayment_capability  is_high_user  number_of_trans_from_2011  \\\n",
       "110                17570.0           0.0                       13.0   \n",
       "3394               15310.0           0.0                       12.0   \n",
       "3052               12240.0           0.0                       28.0   \n",
       "490                 4320.0           0.0                       40.0   \n",
       "1                  16970.0           0.0                       23.0   \n",
       "\n",
       "      first_transaction_time  historical_trans_amount  historical_trans_day  \\\n",
       "110               20170217.0                 181770.0                 150.0   \n",
       "3394              20170331.0                  63350.0                  74.0   \n",
       "3052              20141110.0                  97190.0                  93.0   \n",
       "490               20130817.0                 373700.0                 356.0   \n",
       "1                 20160402.0                 302910.0                 224.0   \n",
       "\n",
       "      rank_trad_1_month  trans_amount_3_month  \\\n",
       "110                0.85               15610.0   \n",
       "3394               0.65               12200.0   \n",
       "3052               0.45               33280.0   \n",
       "490                0.30               61940.0   \n",
       "1                  0.35               10590.0   \n",
       "\n",
       "      avg_consume_less_12_valid_month      abs  top_trans_count_last_1_month  \\\n",
       "110                               7.0   2650.0                          1.00   \n",
       "3394                              6.0   3460.0                          0.40   \n",
       "3052                              8.0   1060.0                          0.30   \n",
       "490                               8.0  26200.0                          0.10   \n",
       "1                                 5.0   6950.0                          0.05   \n",
       "\n",
       "      avg_price_last_12_month  avg_price_top_last_12_valid_month  \\\n",
       "110                    1220.0                               0.45   \n",
       "3394                    630.0                               0.65   \n",
       "3052                    930.0                               0.55   \n",
       "490                    1390.0                               0.45   \n",
       "1                      1210.0                               0.50   \n",
       "\n",
       "      trans_top_time_last_1_month  trans_top_time_last_6_month  \\\n",
       "110                           0.0                         29.0   \n",
       "3394                         14.0                         17.0   \n",
       "3052                         11.0                         21.0   \n",
       "490                          15.0                         15.0   \n",
       "1                            13.0                         30.0   \n",
       "\n",
       "      consume_top_time_last_1_month  consume_top_time_last_6_month  \\\n",
       "110                             0.0                           29.0   \n",
       "3394                           14.0                           17.0   \n",
       "3052                           11.0                           21.0   \n",
       "490                            15.0                           15.0   \n",
       "1                              13.0                           30.0   \n",
       "\n",
       "      cross_consume_count_last_1_month  \\\n",
       "110                                0.0   \n",
       "3394                               1.0   \n",
       "3052                               0.0   \n",
       "490                                1.0   \n",
       "1                                  0.0   \n",
       "\n",
       "      trans_fail_top_count_enum_last_1_month  \\\n",
       "110                                      6.0   \n",
       "3394                                     1.0   \n",
       "3052                                     0.0   \n",
       "490                                      8.0   \n",
       "1                                        0.0   \n",
       "\n",
       "      trans_fail_top_count_enum_last_6_month  \\\n",
       "110                                      9.0   \n",
       "3394                                     4.0   \n",
       "3052                                     4.0   \n",
       "490                                      8.0   \n",
       "1                                        3.0   \n",
       "\n",
       "      trans_fail_top_count_enum_last_12_month  consume_mini_time_last_1_month  \\\n",
       "110                                       9.0                             0.0   \n",
       "3394                                      9.0                             0.0   \n",
       "3052                                     21.0                             0.0   \n",
       "490                                       8.0                         42936.0   \n",
       "1                                         3.0                           330.0   \n",
       "\n",
       "      max_cumulative_consume_later_1_month  max_consume_count_later_6_month  \\\n",
       "110                                  220.0                              6.0   \n",
       "3394                                 470.0                              4.0   \n",
       "3052                                1950.0                             12.0   \n",
       "490                                 3090.0                              7.0   \n",
       "1                                   2100.0                              9.0   \n",
       "\n",
       "      railway_consume_count_last_12_month  \\\n",
       "110                                   0.0   \n",
       "3394                                  0.0   \n",
       "3052                                  0.0   \n",
       "490                                   0.0   \n",
       "1                                     0.0   \n",
       "\n",
       "      pawns_auctions_trusts_consume_last_1_month  \\\n",
       "110                                          0.0   \n",
       "3394                                       470.0   \n",
       "3052                                      1950.0   \n",
       "490                                       3140.0   \n",
       "1                                         1820.0   \n",
       "\n",
       "      pawns_auctions_trusts_consume_last_6_month  \\\n",
       "110                                      10160.0   \n",
       "3394                                      2060.0   \n",
       "3052                                      8240.0   \n",
       "490                                      67720.0   \n",
       "1                                        15680.0   \n",
       "\n",
       "      jewelry_consume_count_last_6_month  first_transaction_day  \\\n",
       "110                                  0.0                  458.0   \n",
       "3394                                 0.0                  416.0   \n",
       "3052                                 0.0                 1288.0   \n",
       "490                                  0.0                 1738.0   \n",
       "1                                    0.0                  779.0   \n",
       "\n",
       "      trans_day_last_12_month  apply_score  apply_credibility  \\\n",
       "110                      99.0        535.0               73.0   \n",
       "3394                     82.0        540.0               81.0   \n",
       "3052                     82.0        516.0               75.0   \n",
       "490                      82.0        491.0               74.0   \n",
       "1                        84.0        653.0               73.0   \n",
       "\n",
       "      query_org_count  query_finance_count  query_cash_count  query_sum_count  \\\n",
       "110              16.0                  6.0               7.0             24.0   \n",
       "3394              8.0                  3.0               3.0              9.0   \n",
       "3052             14.0                  8.0               6.0             19.0   \n",
       "490              11.0                  6.0               4.0             12.0   \n",
       "1                 7.0                  4.0               2.0              8.0   \n",
       "\n",
       "      latest_one_month_apply  latest_three_month_apply  \\\n",
       "110                      5.0                      12.0   \n",
       "3394                     1.0                       3.0   \n",
       "3052                     5.0                       8.0   \n",
       "490                      1.0                       4.0   \n",
       "1                        2.0                       6.0   \n",
       "\n",
       "      latest_six_month_apply  loans_score  loans_credibility_behavior  \\\n",
       "110                     15.0        498.0                        73.0   \n",
       "3394                     6.0        510.0                        76.0   \n",
       "3052                    12.0        482.0                        77.0   \n",
       "490                      7.0        448.0                        78.0   \n",
       "1                        8.0        635.0                        76.0   \n",
       "\n",
       "      loans_count  loans_settle_count  loans_overdue_count  \\\n",
       "110          92.0                77.0                  7.0   \n",
       "3394         19.0                16.0                  3.0   \n",
       "3052         16.0                16.0                  2.0   \n",
       "490          40.0                22.0                  7.0   \n",
       "1            37.0                36.0                  0.0   \n",
       "\n",
       "      loans_org_count_behavior  consfin_org_count_behavior  loans_cash_count  \\\n",
       "110                       27.0                         7.0              20.0   \n",
       "3394                       7.0                         5.0               2.0   \n",
       "3052                       8.0                         5.0               3.0   \n",
       "490                       17.0                        11.0               6.0   \n",
       "1                         17.0                         5.0              12.0   \n",
       "\n",
       "      latest_one_month_loan  latest_three_month_loan  latest_six_month_loan  \\\n",
       "110                     1.0                      3.0                   34.0   \n",
       "3394                    1.0                      1.0                    5.0   \n",
       "3052                    0.0                      0.0                    7.0   \n",
       "490                     0.0                      3.0                   18.0   \n",
       "1                       2.0                      2.0                    8.0   \n",
       "\n",
       "      history_suc_fee  history_fail_fee  latest_one_month_suc  \\\n",
       "110              85.0              52.0                   0.0   \n",
       "3394             22.0              11.0                   1.0   \n",
       "3052             20.0               5.0                   0.0   \n",
       "490              40.0              78.0                   0.0   \n",
       "1                49.0               4.0                   2.0   \n",
       "\n",
       "      latest_one_month_fail  loans_long_time  loans_credit_limit  \\\n",
       "110                     3.0            356.0              2400.0   \n",
       "3394                    0.0            357.0              2400.0   \n",
       "3052                    0.0            314.0              1400.0   \n",
       "490                    10.0            356.0              2600.0   \n",
       "1                       1.0            353.0              2000.0   \n",
       "\n",
       "      loans_credibility_limit  loans_org_count_current  loans_product_count  \\\n",
       "110                      72.0                     20.0                 22.0   \n",
       "3394                     73.0                      2.0                  2.0   \n",
       "3052                     66.0                      3.0                  3.0   \n",
       "490                      76.0                      6.0                  7.0   \n",
       "1                        74.0                     12.0                 12.0   \n",
       "\n",
       "      loans_max_limit  loans_avg_limit  consfin_credit_limit  \\\n",
       "110            5000.0           1845.0               10600.0   \n",
       "3394           2600.0           1800.0               16300.0   \n",
       "3052           2300.0           1500.0               10400.0   \n",
       "490            4500.0           2500.0                6600.0   \n",
       "1              3500.0           1758.0               15100.0   \n",
       "\n",
       "      consfin_credibility  consfin_org_count_current  consfin_product_count  \\\n",
       "110                  81.0                        7.0                    7.0   \n",
       "3394                 78.0                        5.0                    5.0   \n",
       "3052                 82.0                        5.0                    5.0   \n",
       "490                  78.0                       11.0                   12.0   \n",
       "1                    80.0                        5.0                    6.0   \n",
       "\n",
       "      consfin_max_limit  consfin_avg_limit  latest_query_day  \\\n",
       "110             15600.0             8228.0               0.0   \n",
       "3394            21600.0             7160.0              30.0   \n",
       "3052            13800.0            10320.0               3.0   \n",
       "490             17400.0             6418.0              20.0   \n",
       "1               22800.0             9360.0               4.0   \n",
       "\n",
       "      loans_latest_day  一线城市  三线城市  二线城市  其他城市  境外  latest_query_time_month  \\\n",
       "110                9.0     1     0     0     0   0                        5   \n",
       "3394              27.0     1     0     0     0   0                        4   \n",
       "3052             137.0     1     0     0     0   0                        5   \n",
       "490               51.0     0     1     0     0   0                        4   \n",
       "1                  2.0     1     0     0     0   0                        5   \n",
       "\n",
       "      latest_query_time_weekday  loans_latest_time_month  \\\n",
       "110                           4                        4   \n",
       "3394                          5                        4   \n",
       "3052                          4                       12   \n",
       "490                           1                        3   \n",
       "1                             3                        5   \n",
       "\n",
       "      loans_latest_time_weekday  \n",
       "110                           2  \n",
       "3394                          1  \n",
       "3052                          3  \n",
       "490                           5  \n",
       "1                             5  "
      ]
     },
     "execution_count": 13,
     "metadata": {},
     "output_type": "execute_result"
    }
   ],
   "source": [
    "X_train.head(5)"
   ]
  },
  {
   "cell_type": "code",
   "execution_count": 14,
   "metadata": {},
   "outputs": [],
   "source": [
    "useless=[]\n",
    "for feature in X_train.columns:\n",
    "    if feature in [t[1] for t in feature_importance1[30:]]:\n",
    "        useless.append(feature)"
   ]
  },
  {
   "cell_type": "code",
   "execution_count": 15,
   "metadata": {},
   "outputs": [],
   "source": [
    "X_train.drop(useless, axis = 1, inplace = True)\n",
    "X_test.drop(useless, axis = 1, inplace = True)"
   ]
  },
  {
   "cell_type": "markdown",
   "metadata": {},
   "source": [
    "###  模型构建\n"
   ]
  },
  {
   "cell_type": "code",
   "execution_count": 16,
   "metadata": {},
   "outputs": [],
   "source": [
    "#数据归一化评价\n",
    "from sklearn.preprocessing import StandardScaler\n",
    "scaler = StandardScaler()\n",
    "X_train = scaler.fit_transform(X_train)\n",
    "X_test = scaler.transform(X_test)"
   ]
  },
  {
   "cell_type": "markdown",
   "metadata": {},
   "source": [
    "#### 导入分离器模型"
   ]
  },
  {
   "cell_type": "code",
   "execution_count": 17,
   "metadata": {},
   "outputs": [],
   "source": [
    "from sklearn.linear_model import LogisticRegression\n",
    "from sklearn import svm\n",
    "from sklearn.tree import DecisionTreeClassifier\n",
    "from xgboost import XGBClassifier\n",
    "from sklearn.ensemble import RandomForestClassifier,GradientBoostingClassifier\n",
    "from sklearn.metrics import accuracy_score,f1_score,precision_score,recall_score,roc_auc_score,roc_curve\n",
    "\n",
    "\n",
    "from sklearn.model_selection import GridSearchCV  # 导入网格搜索法\n",
    "\n",
    "\n",
    "\n",
    "\n",
    "svm_poly =  svm.SVC(C = 0.01, kernel = 'poly', probability=True)\n",
    "svm_rbf =  svm.SVC(gamma = 0.01, C =0.01 , probability=True)\n",
    "svm_sigmoid =  svm.SVC(C = 0.01, kernel = 'sigmoid',probability=True)\n",
    "dt = DecisionTreeClassifier(max_depth=5,min_samples_split=50,min_samples_leaf=60, max_features=9, random_state =2018)\n",
    "clf = RandomForestClassifier(max_depth=2, random_state=2018)\n",
    "xgb = XGBClassifier(learning_rate =0.1, n_estimators=80, max_depth=3, min_child_weight=5,\\\n",
    "                    gamma=0.2, subsample=0.8, colsample_bytree=0.8, reg_alpha=1e-5,\\\n",
    "                    objective= 'binary:logistic', nthread=4,scale_pos_weight=1, seed=27)"
   ]
  },
  {
   "cell_type": "markdown",
   "metadata": {},
   "source": [
    "#### 逻辑回归进行调优"
   ]
  },
  {
   "cell_type": "code",
   "execution_count": 18,
   "metadata": {},
   "outputs": [
    {
     "name": "stdout",
     "output_type": "stream",
     "text": [
      "最佳参数： {'C': 0.01, 'penalty': 'l2'}\n",
      "训练集的最佳分数： 0.7958924035260856\n",
      "测试集的最佳分数： 0.7843051339029555\n",
      "----------------------------------------\n",
      "[准确率] 训练集： 0.8001 测试集： 0.7835\n",
      "[精准率] 训练集： 0.7076 测试集： 0.6488\n",
      "[召回率] 训练集： 0.3453 测试集： 0.3036\n",
      "[f1-score] 训练集： 0.4641 测试集： 0.4137\n",
      "[auc值] 训练集： 0.8030 测试集： 0.7843\n"
     ]
    },
    {
     "data": {
      "image/png": "[encoded data removed]",
      "text/plain": [
       "<matplotlib.figure.Figure at 0x27e4d7a6978>"
      ]
     },
     "metadata": {},
     "output_type": "display_data"
    }
   ],
   "source": [
    "lr = LogisticRegression()\n",
    "### 调参参数\n",
    "param = {'C': [1e-3,0.01,0.1,1,10,100,1e3], 'penalty':['l1', 'l2']}\n",
    "\n",
    "gsearch = GridSearchCV(lr, param_grid = param,scoring ='roc_auc', cv=5)  #五折交叉验证\n",
    "gsearch.fit(X_train, y_train)\n",
    "pa = gsearch.best_params_\n",
    "print('最佳参数：',gsearch.best_params_)\n",
    "print('训练集的最佳分数：', gsearch.best_score_)\n",
    "print('测试集的最佳分数：', gsearch.score(X_test, y_test))\n",
    "\n",
    "a, b = pa.keys()\n",
    "print('-'*40)\n",
    "lr = LogisticRegression(C=pa[a], penalty=pa[b])\n",
    "lr.fit(X_train, y_train.values)\n",
    "model_metrics(lr, X_train, X_test, y_train, y_test)"
   ]
  },
  {
   "cell_type": "markdown",
   "metadata": {},
   "source": [
    "### SVM进行调优"
   ]
  },
  {
   "cell_type": "code",
   "execution_count": 19,
   "metadata": {
    "scrolled": true
   },
   "outputs": [
    {
     "name": "stdout",
     "output_type": "stream",
     "text": [
      "最佳参数： {'C': 0.01}\n",
      "训练集的最佳分数： 0.8000746801369192\n",
      "测试集的最佳分数： 0.7896622953898155\n",
      "----------------------------------------\n",
      "[准确率] 训练集： 0.7923 测试集： 0.7744\n",
      "[精准率] 训练集： 0.7942 测试集： 0.7079\n",
      "[召回率] 训练集： 0.2314 测试集： 0.1755\n",
      "[f1-score] 训练集： 0.3584 测试集： 0.2812\n",
      "[auc值] 训练集： 0.8070 测试集： 0.7897\n"
     ]
    },
    {
     "data": {
      "image/png": "[encoded data removed]",
      "text/plain": [
       "<matplotlib.figure.Figure at 0x27e4d6ca080>"
      ]
     },
     "metadata": {},
     "output_type": "display_data"
    }
   ],
   "source": [
    "# 线性SVM\n",
    "svm_linear = svm.SVC(kernel = 'linear', probability=True)\n",
    "param = {'C':[0.01,0.1,1]}\n",
    "gsearch = GridSearchCV(svm_linear, param_grid = param,scoring ='roc_auc', cv=5)\n",
    "gsearch.fit(X_train, y_train)\n",
    "pa = gsearch.best_params_\n",
    "\n",
    "print('最佳参数：', pa)\n",
    "print('训练集的最佳分数：', gsearch.best_score_)\n",
    "print('测试集的最佳分数：', gsearch.score(X_test, y_test))\n",
    "\n",
    "print('-'*40)\n",
    "svm_linear = svm.SVC(C = 0.01, kernel = 'linear', probability=True)\n",
    "svm_linear.fit(X_train, y_train.values)\n",
    "model_metrics(svm_linear, X_train, X_test, y_train, y_test)"
   ]
  },
  {
   "cell_type": "code",
   "execution_count": 20,
   "metadata": {},
   "outputs": [
    {
     "name": "stdout",
     "output_type": "stream",
     "text": [
      "最佳参数： {'C': 0.01}\n",
      "训练集的最佳分数： 0.7761112956808196\n",
      "测试集的最佳分数： 0.7645717922235089\n",
      "----------------------------------------\n",
      "[准确率] 训练集： 0.7598 测试集： 0.7582\n",
      "[精准率] 训练集： 0.8723 测试集： 0.8500\n",
      "[召回率] 训练集： 0.0492 测试集： 0.0474\n",
      "[f1-score] 训练集： 0.0931 测试集： 0.0897\n",
      "[auc值] 训练集： 0.8204 测试集： 0.7646\n"
     ]
    },
    {
     "data": {
      "image/png": "[encoded data removed]",
      "text/plain": [
       "<matplotlib.figure.Figure at 0x27e4d8916d8>"
      ]
     },
     "metadata": {},
     "output_type": "display_data"
    }
   ],
   "source": [
    "# 多项式SVM\n",
    "svm_poly = svm.SVC(kernel = 'poly', probability=True)\n",
    "param = {'C':[0.01,0.1,1]}\n",
    "gsearch = GridSearchCV(svm_poly, param_grid = param,scoring ='roc_auc', cv=5)\n",
    "gsearch.fit(X_train, y_train)\n",
    "\n",
    "print('最佳参数：',gsearch.best_params_)\n",
    "print('训练集的最佳分数：', gsearch.best_score_)\n",
    "print('测试集的最佳分数：', gsearch.score(X_test, y_test))\n",
    "print('-'*40)\n",
    "\n",
    "svm_poly =  svm.SVC(C = 0.01, kernel = 'poly', probability=True)\n",
    "svm_poly.fit(X_train, y_train.values)\n",
    "model_metrics(svm_poly, X_train, X_test, y_train, y_test)"
   ]
  },
  {
   "cell_type": "code",
   "execution_count": 40,
   "metadata": {},
   "outputs": [
    {
     "name": "stdout",
     "output_type": "stream",
     "text": [
      "最佳参数： {'C': 0.1, 'gamma': 0.01}\n",
      "训练集的最佳分数： 0.79713965894152\n",
      "测试集的最佳分数： 0.7825654909079527\n",
      "----------------------------------------\n",
      "[准确率] 训练集： 0.7812 测试集： 0.7701\n",
      "[精准率] 训练集： 0.8732 测试集： 0.8298\n",
      "[召回率] 训练集： 0.1487 测试集： 0.1086\n",
      "[f1-score] 训练集： 0.2541 测试集： 0.1921\n",
      "[auc值] 训练集： 0.8096 测试集： 0.7826\n"
     ]
    },
    {
     "data": {
      "image/png": "[encoded data removed]",
      "text/plain": [
       "<matplotlib.figure.Figure at 0x27e4d538ac8>"
      ]
     },
     "metadata": {},
     "output_type": "display_data"
    }
   ],
   "source": [
    "# 高斯SVM\n",
    "svm_rbf = svm.SVC(probability=True)\n",
    "param = {'C':[0.01,0.1,1], 'gamma':[0.01,0.1,1,10]}\n",
    "gsearch = GridSearchCV(svm_rbf, param_grid = param,scoring ='roc_auc', cv=5)\n",
    "gsearch.fit(X_train, y_train)\n",
    "pa = gsearch.best_params_\n",
    "print('最佳参数：', pa)\n",
    "print('训练集的最佳分数：', gsearch.best_score_)\n",
    "print('测试集的最佳分数：', gsearch.score(X_test, y_test))\n",
    "\n",
    "a, b = pa.keys()\n",
    "print('-'*40)\n",
    "svm_rbf =  svm.SVC(C=pa[a], gamma=pa[b] , probability=True)\n",
    "svm_rbf.fit(X_train, y_train.values)\n",
    "model_metrics(svm_rbf, X_train, X_test, y_train, y_test)"
   ]
  },
  {
   "cell_type": "code",
   "execution_count": 22,
   "metadata": {},
   "outputs": [
    {
     "name": "stdout",
     "output_type": "stream",
     "text": [
      "最佳参数： {'C': 0.01}\n",
      "训练集的最佳分数： 0.7943513030077123\n",
      "测试集的最佳分数： 0.779941681533181\n",
      "----------------------------------------\n",
      "[准确率] 训练集： 0.7493 测试集： 0.7484\n",
      "[精准率] 训练集： 0.0000 测试集： 0.0000\n",
      "[召回率] 训练集： 0.0000 测试集： 0.0000\n",
      "[f1-score] 训练集： 0.0000 测试集： 0.0000\n",
      "[auc值] 训练集： 0.7975 测试集： 0.7800\n"
     ]
    },
    {
     "data": {
      "image/png": "[encoded data removed]",
      "text/plain": [
       "<matplotlib.figure.Figure at 0x27e4d6c1ef0>"
      ]
     },
     "metadata": {},
     "output_type": "display_data"
    }
   ],
   "source": [
    "# sigmoid - SVM\n",
    "svm_sigmoid = svm.SVC(kernel = 'sigmoid',probability=True)\n",
    "param = {'C':[0.01,0.1,1]}\n",
    "gsearch = GridSearchCV(svm_sigmoid, param_grid = param,scoring ='roc_auc', cv=5)\n",
    "gsearch.fit(X_train, y_train)\n",
    "\n",
    "print('最佳参数：',gsearch.best_params_)\n",
    "print('训练集的最佳分数：', gsearch.best_score_)\n",
    "print('测试集的最佳分数：', gsearch.score(X_test, y_test))\n",
    "\n",
    "print('-'*40)\n",
    "svm_sigmoid =  svm.SVC(C = 0.01, kernel = 'sigmoid',probability=True)\n",
    "svm_sigmoid.fit(X_train, y_train.values)\n",
    "model_metrics(svm_sigmoid, X_train, X_test, y_train, y_test)"
   ]
  },
  {
   "cell_type": "markdown",
   "metadata": {},
   "source": [
    "#### 决策树模型进行调优\n",
    "(1) 先对决策树 max_depth 最大深度和 min_samples_split 内部结点划分所需样本数"
   ]
  },
  {
   "cell_type": "code",
   "execution_count": 23,
   "metadata": {},
   "outputs": [
    {
     "data": {
      "text/plain": [
       "({'max_depth': 9, 'min_samples_split': 300}, 0.718953589540317)"
      ]
     },
     "execution_count": 23,
     "metadata": {},
     "output_type": "execute_result"
    }
   ],
   "source": [
    "param = {'max_depth':range(3,14,2), 'min_samples_split':range(100,801,200)}\n",
    "gsearch = GridSearchCV(DecisionTreeClassifier(max_depth=8,min_samples_split=300,min_samples_leaf=20, max_features='sqrt',random_state =2333),\n",
    "                       param_grid = param,scoring ='roc_auc', cv=5)\n",
    "\n",
    "gsearch.fit(X_train, y_train)\n",
    "gsearch.best_params_, gsearch.best_score_"
   ]
  },
  {
   "cell_type": "markdown",
   "metadata": {},
   "source": [
    "(2) 对决策树内部结点再进一步划分所需 min_samples_split 最小样本数 和 叶子结点 min_samples_leaf 最少样本数进行调优"
   ]
  },
  {
   "cell_type": "code",
   "execution_count": 24,
   "metadata": {},
   "outputs": [
    {
     "data": {
      "text/plain": [
       "({'min_samples_leaf': 60, 'min_samples_split': 350}, 0.7220418748590809)"
      ]
     },
     "execution_count": 24,
     "metadata": {},
     "output_type": "execute_result"
    }
   ],
   "source": [
    "param = {'min_samples_split':range(50,1000,100), 'min_samples_leaf':range(60,101,10)}\n",
    "gsearch = GridSearchCV(DecisionTreeClassifier(max_depth=11,min_samples_split=100,min_samples_leaf=20, max_features='sqrt', random_state =2333),\n",
    "                       param_grid = param,scoring ='roc_auc', cv=5)\n",
    "\n",
    "gsearch.fit(X_train, y_train)\n",
    "# gsearch.grid_scores_, \n",
    "gsearch.best_params_, gsearch.best_score_"
   ]
  },
  {
   "cell_type": "markdown",
   "metadata": {},
   "source": [
    "(3) 对决策树 max_features 最大特征数进行 GridSearchCV 网格搜索"
   ]
  },
  {
   "cell_type": "code",
   "execution_count": 25,
   "metadata": {},
   "outputs": [
    {
     "data": {
      "text/plain": [
       "({'max_features': 11}, 0.7419997924294427)"
      ]
     },
     "execution_count": 25,
     "metadata": {},
     "output_type": "execute_result"
    }
   ],
   "source": [
    "param = {'max_features':range(7,20,2)}\n",
    "gsearch = GridSearchCV(DecisionTreeClassifier(max_depth=11,min_samples_split=550,min_samples_leaf=80, max_features='sqrt', random_state =2018),\n",
    "                       param_grid = param,scoring ='roc_auc', cv=5)\n",
    "\n",
    "gsearch.fit(X_train, y_train)\n",
    "# gsearch.grid_scores_, \n",
    "gsearch.best_params_, gsearch.best_score_"
   ]
  },
  {
   "cell_type": "code",
   "execution_count": 26,
   "metadata": {},
   "outputs": [
    {
     "name": "stdout",
     "output_type": "stream",
     "text": [
      "[准确率] 训练集： 0.7770 测试集： 0.7666\n",
      "[精准率] 训练集： 0.6933 测试集： 0.6204\n",
      "[召回率] 训练集： 0.1978 测试集： 0.1866\n",
      "[f1-score] 训练集： 0.3078 测试集： 0.2869\n",
      "[auc值] 训练集： 0.7633 测试集： 0.7254\n"
     ]
    },
    {
     "data": {
      "image/png": "[encoded data removed]",
      "text/plain": [
       "<matplotlib.figure.Figure at 0x27e4d39de80>"
      ]
     },
     "metadata": {},
     "output_type": "display_data"
    }
   ],
   "source": [
    "dt = DecisionTreeClassifier(max_depth=11,min_samples_split=550,min_samples_leaf=80,max_features=19, random_state =2018)\n",
    "dt.fit(X_train, y_train)\n",
    "model_metrics(dt, X_train, X_test, y_train, y_test)"
   ]
  },
  {
   "cell_type": "markdown",
   "metadata": {},
   "source": [
    "#### 随机森林模型进行调优"
   ]
  },
  {
   "cell_type": "code",
   "execution_count": 27,
   "metadata": {},
   "outputs": [
    {
     "name": "stdout",
     "output_type": "stream",
     "text": [
      "[准确率] 训练集： 0.7746 测试集： 0.7744\n",
      "[精准率] 训练集： 0.8387 测试集： 0.8246\n",
      "[召回率] 训练集： 0.1247 测试集： 0.1309\n",
      "[f1-score] 训练集： 0.2171 测试集： 0.2260\n",
      "[auc值] 训练集： 0.7668 测试集： 0.7413\n"
     ]
    },
    {
     "data": {
      "image/png": "[encoded data removed]",
      "text/plain": [
       "<matplotlib.figure.Figure at 0x27e4d5989e8>"
      ]
     },
     "metadata": {},
     "output_type": "display_data"
    }
   ],
   "source": [
    "rf = RandomForestClassifier(oob_score=True, random_state=2018)\n",
    "clf.fit(X_train, y_train.values)\n",
    "model_metrics(clf, X_train, X_test, y_train, y_test)"
   ]
  },
  {
   "cell_type": "code",
   "execution_count": 28,
   "metadata": {},
   "outputs": [
    {
     "data": {
      "text/plain": [
       "({'n_estimators': 180}, 0.7949369423400683)"
      ]
     },
     "execution_count": 28,
     "metadata": {},
     "output_type": "execute_result"
    }
   ],
   "source": [
    "# 网格法调参\n",
    "param_test = {'n_estimators':range(20,200,20)}\n",
    "gsearch = GridSearchCV(estimator = RandomForestClassifier(n_estimators=120, max_depth=9, min_samples_split=50, \\\n",
    "                                                          min_samples_leaf=20, max_features = 9,random_state=2333), \\\n",
    "                       param_grid = param_test, scoring='roc_auc', cv=5)\n",
    "\n",
    "gsearch.fit(X_train, y_train)\n",
    "gsearch.best_params_, gsearch.best_score_"
   ]
  },
  {
   "cell_type": "code",
   "execution_count": 29,
   "metadata": {},
   "outputs": [
    {
     "name": "stdout",
     "output_type": "stream",
     "text": [
      "[准确率] 训练集： 0.8284 测试集： 0.7884\n",
      "[精准率] 训练集： 0.8329 测试集： 0.6815\n",
      "[召回率] 训练集： 0.3945 测试集： 0.2981\n",
      "[f1-score] 训练集： 0.5354 测试集： 0.4147\n",
      "[auc值] 训练集： 0.8880 测试集： 0.7761\n"
     ]
    },
    {
     "data": {
      "image/png": "[encoded data removed]",
      "text/plain": [
       "<matplotlib.figure.Figure at 0x27e4d852c88>"
      ]
     },
     "metadata": {},
     "output_type": "display_data"
    }
   ],
   "source": [
    "rf = RandomForestClassifier(n_estimators=120, max_depth=9, min_samples_split=50,\n",
    "                            min_samples_leaf=20, max_features = 9,oob_score=True, random_state=2333)\n",
    "rf.fit(X_train, y_train)\n",
    "model_metrics(rf, X_train, X_test, y_train, y_test)"
   ]
  },
  {
   "cell_type": "markdown",
   "metadata": {},
   "source": [
    "#### XGBoost模型调优"
   ]
  },
  {
   "cell_type": "code",
   "execution_count": 30,
   "metadata": {
    "scrolled": false
   },
   "outputs": [
    {
     "name": "stdout",
     "output_type": "stream",
     "text": [
      "[准确率] 训练集： 0.8464 测试集： 0.7898\n",
      "[精准率] 训练集： 0.8386 测试集： 0.6411\n",
      "[召回率] 训练集： 0.4796 测试集： 0.3733\n",
      "[f1-score] 训练集： 0.6102 测试集： 0.4718\n",
      "[auc值] 训练集： 0.8960 测试集： 0.7785\n"
     ]
    },
    {
     "data": {
      "image/png": "[encoded data removed]",
      "text/plain": [
       "<matplotlib.figure.Figure at 0x27e4d7740f0>"
      ]
     },
     "metadata": {},
     "output_type": "display_data"
    }
   ],
   "source": [
    "xgb = XGBClassifier()\n",
    "xgb.fit(X_train, y_train)\n",
    "\n",
    "model_metrics(xgb, X_train, X_test, y_train, y_test)"
   ]
  },
  {
   "cell_type": "markdown",
   "metadata": {},
   "source": [
    "(1) 使用步长值为 0.1 进行网格搜索（需在不断进行迭代，降低 lr 学习率，调整迭代次数）"
   ]
  },
  {
   "cell_type": "code",
   "execution_count": 31,
   "metadata": {},
   "outputs": [
    {
     "data": {
      "text/plain": [
       "({'n_estimators': 40}, 0.7995095184619381)"
      ]
     },
     "execution_count": 31,
     "metadata": {},
     "output_type": "execute_result"
    }
   ],
   "source": [
    "param_test = {'n_estimators':range(20,200,20)}\n",
    "gsearch = GridSearchCV(estimator = XGBClassifier(learning_rate =0.1, n_estimators=140, max_depth=5, \n",
    "                                                  min_child_weight=1, gamma=0, subsample=0.8, \n",
    "                                                  colsample_bytree=0.8, objective= 'binary:logistic', \n",
    "                                                  nthread=4,scale_pos_weight=1, seed=27), \n",
    "                        param_grid = param_test, scoring='roc_auc',n_jobs=4,iid=False, cv=5)\n",
    "\n",
    "gsearch.fit(X_train, y_train)\n",
    "gsearch.best_params_, gsearch.best_score_"
   ]
  },
  {
   "cell_type": "markdown",
   "metadata": {},
   "source": [
    "(2)  对 max_depth、min_child_weight参数进行调优"
   ]
  },
  {
   "cell_type": "code",
   "execution_count": 32,
   "metadata": {},
   "outputs": [
    {
     "data": {
      "text/plain": [
       "({'max_depth': 5, 'min_child_weight': 11}, 0.793318002594118)"
      ]
     },
     "execution_count": 32,
     "metadata": {},
     "output_type": "execute_result"
    }
   ],
   "source": [
    "param_test = {'max_depth':range(3,10,2), 'min_child_weight':range(1,12,2)}\n",
    "\n",
    "gsearch = GridSearchCV(estimator = XGBClassifier(learning_rate =0.1, n_estimators=20, max_depth=5, \n",
    "                                                  min_child_weight=1, gamma=0, subsample=0.8, \n",
    "                                                  colsample_bytree=0.8, objective= 'binary:logistic', \n",
    "                                                  nthread=4,scale_pos_weight=1, seed=27), \n",
    "                        param_grid = param_test, scoring='roc_auc',n_jobs=4,iid=False, cv=5)\n",
    "\n",
    "gsearch.fit(X_train, y_train)\n",
    "gsearch.best_params_, gsearch.best_score_"
   ]
  },
  {
   "cell_type": "markdown",
   "metadata": {},
   "source": [
    "(3) 对 max_depth、min_child_weight 进一步调优"
   ]
  },
  {
   "cell_type": "code",
   "execution_count": 33,
   "metadata": {},
   "outputs": [
    {
     "data": {
      "text/plain": [
       "({'max_depth': 4, 'min_child_weight': 5}, 0.7950190710328815)"
      ]
     },
     "execution_count": 33,
     "metadata": {},
     "output_type": "execute_result"
    }
   ],
   "source": [
    "param_test = {'max_depth':[3,4,5], 'min_child_weight':[3,4,5]}\n",
    "\n",
    "gsearch = GridSearchCV(estimator = XGBClassifier(learning_rate =0.1, n_estimators=20, max_depth=5, \n",
    "                                                  min_child_weight=1, gamma=0, subsample=0.8, \n",
    "                                                  colsample_bytree=0.8, objective= 'binary:logistic', \n",
    "                                                  nthread=4,scale_pos_weight=1, seed=27), \n",
    "                        param_grid = param_test, scoring='roc_auc',n_jobs=4,iid=False, cv=5)\n",
    "\n",
    "gsearch.fit(X_train, y_train)\n",
    "gsearch.best_params_, gsearch.best_score_"
   ]
  },
  {
   "cell_type": "markdown",
   "metadata": {},
   "source": [
    "(4) 对 gamma 参数进行调优"
   ]
  },
  {
   "cell_type": "code",
   "execution_count": 34,
   "metadata": {},
   "outputs": [
    {
     "data": {
      "text/plain": [
       "({'gamma': 0.1}, 0.7930097719519924)"
      ]
     },
     "execution_count": 34,
     "metadata": {},
     "output_type": "execute_result"
    }
   ],
   "source": [
    "param_test = {'gamma':[i/10 for i in range(1,6)]}\n",
    "\n",
    "gsearch = GridSearchCV(estimator = XGBClassifier(learning_rate =0.1, n_estimators=20, max_depth=5, \n",
    "                                                  min_child_weight=5, gamma=0, subsample=0.8, \n",
    "                                                  colsample_bytree=0.8, objective= 'binary:logistic', \n",
    "                                                  nthread=4,scale_pos_weight=1, seed=27), \n",
    "                        param_grid = param_test, scoring='roc_auc',n_jobs=4,iid=False, cv=5)\n",
    "\n",
    "gsearch.fit(X_train, y_train)\n",
    "gsearch.best_params_, gsearch.best_score_"
   ]
  },
  {
   "cell_type": "markdown",
   "metadata": {},
   "source": [
    "(5) 对 subsample、colsample_bytree 参数进行调优（步长为0.1）¶"
   ]
  },
  {
   "cell_type": "code",
   "execution_count": 35,
   "metadata": {},
   "outputs": [
    {
     "data": {
      "text/plain": [
       "({'colsample_bytree': 0.7, 'subsample': 0.8}, 0.7941500080414604)"
      ]
     },
     "execution_count": 35,
     "metadata": {},
     "output_type": "execute_result"
    }
   ],
   "source": [
    "param_test = {'subsample':[i/10 for i in range(5,10)], 'colsample_bytree':[i/10 for i in range(5,10)]}\n",
    "\n",
    "gsearch = GridSearchCV(estimator = XGBClassifier(learning_rate =0.1, n_estimators=20, max_depth=5, \n",
    "                                                  min_child_weight=5, gamma=0.4, subsample=0.8, \n",
    "                                                  colsample_bytree=0.8, objective= 'binary:logistic', \n",
    "                                                  nthread=4,scale_pos_weight=1, seed=27), \n",
    "                        param_grid = param_test, scoring='roc_auc',n_jobs=4,iid=False, cv=5)\n",
    "\n",
    "gsearch.fit(X_train, y_train)\n",
    "gsearch.best_params_, gsearch.best_score_"
   ]
  },
  {
   "cell_type": "markdown",
   "metadata": {},
   "source": [
    "(6) 进一步调整 subsample、colsample_bytree（步长缩小为0.05）"
   ]
  },
  {
   "cell_type": "code",
   "execution_count": 36,
   "metadata": {},
   "outputs": [
    {
     "data": {
      "text/plain": [
       "({'colsample_bytree': 0.95, 'subsample': 0.95}, 0.7928956822954596)"
      ]
     },
     "execution_count": 36,
     "metadata": {},
     "output_type": "execute_result"
    }
   ],
   "source": [
    "param_test = { 'subsample':[i/100 for i in range(85,101,5)], 'colsample_bytree':[i/100 for i in range(85,101,5)]}\n",
    "\n",
    "gsearch = GridSearchCV(estimator = XGBClassifier(learning_rate =0.1, n_estimators=20, max_depth=5, \n",
    "                                                  min_child_weight=5, gamma=0.4, subsample=0.8, \n",
    "                                                  colsample_bytree=0.8, objective= 'binary:logistic', \n",
    "                                                  nthread=4,scale_pos_weight=1, seed=27), \n",
    "                        param_grid = param_test, scoring='roc_auc',n_jobs=4,iid=False, cv=5)\n",
    "\n",
    "gsearch.fit(X_train, y_train)\n",
    "gsearch.best_params_, gsearch.best_score_"
   ]
  },
  {
   "cell_type": "markdown",
   "metadata": {},
   "source": [
    "(7) 对 reg_alpha 正则化参数进行调优"
   ]
  },
  {
   "cell_type": "code",
   "execution_count": 37,
   "metadata": {},
   "outputs": [
    {
     "data": {
      "text/plain": [
       "({'reg_alpha': 1}, 0.7925392723054417)"
      ]
     },
     "execution_count": 37,
     "metadata": {},
     "output_type": "execute_result"
    }
   ],
   "source": [
    "param_test = {'reg_alpha':[1e-5, 1e-2, 0.1, 0, 1, 100]}\n",
    "\n",
    "gsearch = GridSearchCV(estimator = XGBClassifier(learning_rate =0.1, n_estimators=20, max_depth=5, \\\n",
    "                                                  min_child_weight=5, gamma=0.4, subsample=0.95, \\\n",
    "                                                  colsample_bytree=0.9, objective= 'binary:logistic', \\\n",
    "                                                  nthread=4,scale_pos_weight=1, seed=27), \\\n",
    "                        param_grid = param_test, scoring='roc_auc',n_jobs=4,iid=False, cv=5)\n",
    "\n",
    "gsearch.fit(X_train, y_train)\n",
    "gsearch.best_params_, gsearch.best_score_"
   ]
  },
  {
   "cell_type": "markdown",
   "metadata": {},
   "source": [
    "(8) 降低学习率，调整迭代次数"
   ]
  },
  {
   "cell_type": "code",
   "execution_count": 38,
   "metadata": {},
   "outputs": [
    {
     "data": {
      "text/plain": [
       "({'n_estimators': 180}, 0.7911064298924055)"
      ]
     },
     "execution_count": 38,
     "metadata": {},
     "output_type": "execute_result"
    }
   ],
   "source": [
    "param_test = {'n_estimators':range(20,200,20)}\n",
    "\n",
    "gsearch = GridSearchCV(estimator = XGBClassifier(learning_rate =0.01, n_estimators=60, max_depth=3, \n",
    "                                                  min_child_weight=5, gamma=0.4, subsample=0.5, \n",
    "                                                  colsample_bytree=0.9, reg_alpha=1, objective= 'binary:logistic', \n",
    "                                                  nthread=4,scale_pos_weight=1, seed=27), \n",
    "                        param_grid = param_test, scoring='roc_auc',n_jobs=4,iid=False, cv=5)\n",
    "\n",
    "gsearch.fit(X_train, y_train)\n",
    "gsearch.best_params_, gsearch.best_score_"
   ]
  },
  {
   "cell_type": "markdown",
   "metadata": {},
   "source": [
    "(9) 观测最终调优结果"
   ]
  },
  {
   "cell_type": "code",
   "execution_count": 39,
   "metadata": {},
   "outputs": [
    {
     "name": "stdout",
     "output_type": "stream",
     "text": [
      "[准确率] 训练集： 0.8070 测试集： 0.7821\n",
      "[精准率] 训练集： 0.7807 测试集： 0.6600\n",
      "[召回率] 训练集： 0.3201 测试集： 0.2758\n",
      "[f1-score] 训练集： 0.4541 测试集： 0.3890\n",
      "[auc值] 训练集： 0.8240 测试集： 0.7693\n"
     ]
    },
    {
     "data": {
      "image/png": "[encoded data removed]",
      "text/plain": [
       "<matplotlib.figure.Figure at 0x27e4d7335f8>"
      ]
     },
     "metadata": {},
     "output_type": "display_data"
    }
   ],
   "source": [
    "xgb = XGBClassifier(learning_rate =0.01, n_estimators=180, max_depth=3, min_child_weight=10, \n",
    "                    gamma=0.4, subsample=0.5, colsample_bytree=0.9, reg_alpha=1, \n",
    "                    objective= 'binary:logistic', nthread=4,scale_pos_weight=1, seed=27)\n",
    "xgb.fit(X_train, y_train)\n",
    "model_metrics(xgb, X_train, X_test, y_train, y_test)"
   ]
  },
  {
   "cell_type": "code",
   "execution_count": null,
   "metadata": {},
   "outputs": [],
   "source": []
  },
  {
   "cell_type": "markdown",
   "metadata": {},
   "source": [
    "## 结果\n",
    "\n",
    "|模型|参数|准确率|精确率|召回率|F1-Score|AUC取值|ROC曲线\n",
    "|:---|:---|:---|:---|:---|:---|:---||:---|\n",
    "|LR逻辑回归|GridSearchCV(lr, param_grid = param,scoring ='roc_auc', cv=5)| 训练集： 0.8001 测试集： 0.7835| 训练集： 0.7076 测试集： 0.6488| 训练集： 0.3453 测试集： 0.3036| 训练集： 0.4641 测试集： 0.4137| 训练集： 0.8030 测试集： 0.7843|<img align=\"right\" style=\"padding-right:1px;\" src=\"ROC-LR.png\">|\n",
    "|svm_linear|GridSearchCV(svm_linear, param_grid = param,scoring ='roc_auc', cv=5)| 训练集： 0.7923 测试集： 0.7744| 训练集： 0.7942 测试集： 0.7079| 训练集： 0.2314 测试集： 0.1755| 训练集： 0.3584 测试集： 0.2812| 训练集： 0.8070 测试集： 0.7897|<img align=\"right\" style=\"padding-right:1px;\" src=\"ROC-LINEAR.png\">|\n",
    "|svm_poly|GridSearchCV(svm_poly, param_grid = param,scoring ='roc_auc', cv=5)|训练集： 0.7598 测试集： 0.7582|训练集： 0.8723 测试集： 0.8500| 训练集： 0.0492 测试集： 0.0474| 训练集： 0.0931 测试集： 0.0897| 训练集： 0.8204 测试集： 0.7646| <img align=\"right\" style=\"padding-right:1px;\" src=\"ROC-POLY.png\">|\n",
    "|svm_rbf|GridSearchCV(svm_rbf, param_grid = param,scoring ='roc_auc', cv=5)| 训练集： 0.7812 测试集： 0.7701| 训练集： 0.8732 测试集： 0.8298| 训练集： 0.1487 测试集： 0.1086| 训练集： 0.2541 测试集： 0.1921| 训练集： 0.8096 测试集： 0.7826| <img align=\"right\" style=\"padding-right:1px;\" src=\"ROC-RBF.png\">|\n",
    "|svm_sigmoid|GridSearchCV(svm_sigmoid, param_grid = param,scoring ='roc_auc', cv=5)| 训练集： 0.7493 测试集： 0.7484| 训练集： 0.0000 测试集： 0.0000| 训练集： 0.0000 测试集： 0.0000| 训练集： 0.0000 测试集： 0.0000| 训练集： 0.7975 测试集： 0.7800|<img align=\"right\" style=\"padding-right:1px;\" src=\"ROC-SIGMOID.png\">|\n",
    "|决策树|GridSearchCV(DecisionTreeClassifier(max_depth=11,min_samples_split=550,min_samples_leaf=80, max_features='sqrt', random_state =2018), param_grid = param,scoring ='roc_auc', cv=5)| 训练集： 0.7770 测试集： 0.7666| 训练集： 0.6933 测试集： 0.6204| 训练集： 0.1978 测试集： 0.1866| 训练集： 0.3078 测试集： 0.2869| 训练集： 0.7633 测试集： 0.7254| <img align=\"right\" style=\"padding-right:1px;\" src=\"ROC-DT.png\">|\n",
    "|随机森林|GridSearchCV(estimator = RandomForestClassifier(n_estimators=120, max_depth=9, min_samples_split=50, min_samples_leaf=20, max_features = 9,random_state=2018), param_grid = param_test, scoring='roc_auc', cv=5)| 训练集： 0.8284 测试集： 0.7884| 训练集： 0.8329 测试集： 0.6815| 训练集： 0.3945 测试集： 0.2981| 训练集： 0.5354 测试集： 0.4147| 训练集： 0.8880 测试集： 0.7761| <img align=\"right\" style=\"padding-right:1px;\" src=\"ROC-RF.png\">|\n",
    "|XGBoost|GridSearchCV(estimator = XGBClassifier(learning_rate =0.01, n_estimators=60, max_depth=3, min_child_weight=5, gamma=0.4, subsample=0.5, colsample_bytree=0.9, reg_alpha=1, objective= 'binary:logistic', nthread=4,scale_pos_weight=1, seed=27), param_grid = param_test, scoring='roc_auc',n_jobs=4,iid=False, cv=5)| 训练集： 0.8070 测试集： 0.7821| 训练集： 0.7807 测试集： 0.6600| 训练集： 0.3201 测试集： 0.2758| 训练集： 0.4541 测试集： 0.3890| 训练集： 0.8240 测试集： 0.7693|<img align=\"right\" style=\"padding-right:1px;\" src=\"ROC-XGBOOST.png\">|"
   ]
  },
  {
   "cell_type": "markdown",
   "metadata": {},
   "source": [
    "### Reference\n",
    "https://blog.csdn.net/zhangyunpeng0922/article/details/84591046<br/>\n",
    "https://blog.csdn.net/wxq_1993/article/details/86695650<br/>\n",
    "https://blog.csdn.net/Crafts_Neo/article/details/80489358"
   ]
  }
 ],
 "metadata": {
  "kernelspec": {
   "display_name": "Python 3",
   "language": "python",
   "name": "python3"
  },
  "language_info": {
   "codemirror_mode": {
    "name": "ipython",
    "version": 3
   },
   "file_extension": ".py",
   "mimetype": "text/x-python",
   "name": "python",
   "nbconvert_exporter": "python",
   "pygments_lexer": "ipython3",
   "version": "3.6.4"
  }
 },
 "nbformat": 4,
 "nbformat_minor": 2
}
